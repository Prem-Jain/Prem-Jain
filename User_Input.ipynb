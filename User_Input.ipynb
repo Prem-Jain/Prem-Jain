{
  "nbformat": 4,
  "nbformat_minor": 5,
  "metadata": {
    "kernelspec": {
      "display_name": "Python 3",
      "language": "python",
      "name": "python3"
    },
    "language_info": {
      "codemirror_mode": {
        "name": "ipython",
        "version": 3
      },
      "file_extension": ".py",
      "mimetype": "text/x-python",
      "name": "python",
      "nbconvert_exporter": "python",
      "pygments_lexer": "ipython3",
      "version": "3.8.10"
    },
    "colab": {
      "name": "User_Input.ipynb",
      "provenance": [],
      "collapsed_sections": [],
      "include_colab_link": true
    }
  },
  "cells": [
    {
      "cell_type": "markdown",
      "metadata": {
        "id": "view-in-github",
        "colab_type": "text"
      },
      "source": [
        "<a href=\"https://colab.research.google.com/github/Prem-Jain/Prem-Jain/blob/main/User_Input.ipynb\" target=\"_parent\"><img src=\"https://colab.research.google.com/assets/colab-badge.svg\" alt=\"Open In Colab\"/></a>"
      ]
    },
    {
      "cell_type": "markdown",
      "metadata": {
        "id": "EFSCDaXga2ku"
      },
      "source": [
        "# Input"
      ],
      "id": "EFSCDaXga2ku"
    },
    {
      "cell_type": "code",
      "metadata": {
        "id": "0b4cc600"
      },
      "source": [
        "#If input is taken from the user, we use input() and its default type is string"
      ],
      "id": "0b4cc600",
      "execution_count": null,
      "outputs": []
    },
    {
      "cell_type": "code",
      "metadata": {
        "colab": {
          "base_uri": "https://localhost:8080/"
        },
        "id": "2c441166",
        "outputId": "a4f94b48-97c3-4303-aafa-cb5d39b0820d"
      },
      "source": [
        "Name = input()"
      ],
      "id": "2c441166",
      "execution_count": null,
      "outputs": [
        {
          "output_type": "stream",
          "text": [
            "Prem Jain\n"
          ],
          "name": "stdout"
        }
      ]
    },
    {
      "cell_type": "code",
      "metadata": {
        "colab": {
          "base_uri": "https://localhost:8080/"
        },
        "id": "10a4678f",
        "outputId": "d346b25c-9c69-47d8-9313-0fa073e1c696"
      },
      "source": [
        "print(Name)"
      ],
      "id": "10a4678f",
      "execution_count": null,
      "outputs": [
        {
          "output_type": "stream",
          "text": [
            "Prem Jain\n"
          ],
          "name": "stdout"
        }
      ]
    },
    {
      "cell_type": "code",
      "metadata": {
        "id": "3a48a5d2"
      },
      "source": [
        "#To change the type of the input, use int or float"
      ],
      "id": "3a48a5d2",
      "execution_count": null,
      "outputs": []
    },
    {
      "cell_type": "code",
      "metadata": {
        "colab": {
          "base_uri": "https://localhost:8080/"
        },
        "id": "9f8dd20e",
        "outputId": "e209812b-c354-401c-f7e9-fd202a8f7b07"
      },
      "source": [
        "num = int(input(\"Enter a number : \"))"
      ],
      "id": "9f8dd20e",
      "execution_count": null,
      "outputs": [
        {
          "output_type": "stream",
          "text": [
            "Enter a number : 801\n"
          ],
          "name": "stdout"
        }
      ]
    },
    {
      "cell_type": "code",
      "metadata": {
        "colab": {
          "base_uri": "https://localhost:8080/"
        },
        "id": "654601b0",
        "outputId": "0a274fae-2cf5-46b4-dba9-67fadba49154"
      },
      "source": [
        "print(num)"
      ],
      "id": "654601b0",
      "execution_count": null,
      "outputs": [
        {
          "output_type": "stream",
          "text": [
            "801\n"
          ],
          "name": "stdout"
        }
      ]
    },
    {
      "cell_type": "code",
      "metadata": {
        "id": "ce6bc580"
      },
      "source": [
        "#While changing the type, make sure the type is int, else it is an error"
      ],
      "id": "ce6bc580",
      "execution_count": null,
      "outputs": []
    },
    {
      "cell_type": "code",
      "metadata": {
        "colab": {
          "base_uri": "https://localhost:8080/",
          "height": 178
        },
        "id": "b62d82fa",
        "outputId": "5e8e3036-28a0-4e6e-9e5b-02a050315866"
      },
      "source": [
        "print(int(input(\"Enter a number : \")))"
      ],
      "id": "b62d82fa",
      "execution_count": null,
      "outputs": [
        {
          "output_type": "stream",
          "text": [
            "Enter a number : Prem Jain\n"
          ],
          "name": "stdout"
        },
        {
          "output_type": "error",
          "ename": "ValueError",
          "evalue": "ignored",
          "traceback": [
            "\u001b[0;31m---------------------------------------------------------------------------\u001b[0m",
            "\u001b[0;31mValueError\u001b[0m                                Traceback (most recent call last)",
            "\u001b[0;32m<ipython-input-8-91f40b407547>\u001b[0m in \u001b[0;36m<module>\u001b[0;34m()\u001b[0m\n\u001b[0;32m----> 1\u001b[0;31m \u001b[0mprint\u001b[0m\u001b[0;34m(\u001b[0m\u001b[0mint\u001b[0m\u001b[0;34m(\u001b[0m\u001b[0minput\u001b[0m\u001b[0;34m(\u001b[0m\u001b[0;34m\"Enter a number : \"\u001b[0m\u001b[0;34m)\u001b[0m\u001b[0;34m)\u001b[0m\u001b[0;34m)\u001b[0m\u001b[0;34m\u001b[0m\u001b[0;34m\u001b[0m\u001b[0m\n\u001b[0m",
            "\u001b[0;31mValueError\u001b[0m: invalid literal for int() with base 10: 'Prem Jain'"
          ]
        }
      ]
    },
    {
      "cell_type": "code",
      "metadata": {
        "id": "95f8974f"
      },
      "source": [
        "#If an integer is entered without type conversion, there would be no error but it is considered a string"
      ],
      "id": "95f8974f",
      "execution_count": null,
      "outputs": []
    },
    {
      "cell_type": "code",
      "metadata": {
        "colab": {
          "base_uri": "https://localhost:8080/"
        },
        "id": "59885d5d",
        "outputId": "4f9fb691-04a6-4a0a-bbfb-9c4a4729a417"
      },
      "source": [
        "str=input()"
      ],
      "id": "59885d5d",
      "execution_count": null,
      "outputs": [
        {
          "output_type": "stream",
          "text": [
            "801\n"
          ],
          "name": "stdout"
        }
      ]
    },
    {
      "cell_type": "code",
      "metadata": {
        "colab": {
          "base_uri": "https://localhost:8080/"
        },
        "id": "764c25f8",
        "outputId": "2f1526e0-fbe5-4f94-95e2-a41a0f9beb42"
      },
      "source": [
        "print(type(str))"
      ],
      "id": "764c25f8",
      "execution_count": null,
      "outputs": [
        {
          "output_type": "stream",
          "text": [
            "<class 'str'>\n"
          ],
          "name": "stdout"
        }
      ]
    },
    {
      "cell_type": "code",
      "metadata": {
        "colab": {
          "base_uri": "https://localhost:8080/",
          "height": 195
        },
        "id": "805c73b6",
        "outputId": "1334bebd-cc65-4622-9b44-13315fe8284e"
      },
      "source": [
        "notNum = str + 1\n",
        "print(v)\n",
        "#The above example gives an error coz c is a string here and we cannot perform operations on it"
      ],
      "id": "805c73b6",
      "execution_count": null,
      "outputs": [
        {
          "output_type": "error",
          "ename": "TypeError",
          "evalue": "ignored",
          "traceback": [
            "\u001b[0;31m---------------------------------------------------------------------------\u001b[0m",
            "\u001b[0;31mTypeError\u001b[0m                                 Traceback (most recent call last)",
            "\u001b[0;32m<ipython-input-14-a7c16b398b24>\u001b[0m in \u001b[0;36m<module>\u001b[0;34m()\u001b[0m\n\u001b[0;32m----> 1\u001b[0;31m \u001b[0mnotNum\u001b[0m \u001b[0;34m=\u001b[0m \u001b[0mstr\u001b[0m \u001b[0;34m+\u001b[0m \u001b[0;36m1\u001b[0m\u001b[0;34m\u001b[0m\u001b[0;34m\u001b[0m\u001b[0m\n\u001b[0m\u001b[1;32m      2\u001b[0m \u001b[0mprint\u001b[0m\u001b[0;34m(\u001b[0m\u001b[0mv\u001b[0m\u001b[0;34m)\u001b[0m\u001b[0;34m\u001b[0m\u001b[0;34m\u001b[0m\u001b[0m\n\u001b[1;32m      3\u001b[0m \u001b[0;31m#The above example gives an error coz c is a string here and we cannot perform operations on it\u001b[0m\u001b[0;34m\u001b[0m\u001b[0;34m\u001b[0m\u001b[0;34m\u001b[0m\u001b[0m\n",
            "\u001b[0;31mTypeError\u001b[0m: can only concatenate str (not \"int\") to str"
          ]
        }
      ]
    }
  ]
}