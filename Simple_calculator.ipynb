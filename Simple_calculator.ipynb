{
  "nbformat": 4,
  "nbformat_minor": 5,
  "metadata": {
    "kernelspec": {
      "display_name": "Python 3",
      "language": "python",
      "name": "python3"
    },
    "language_info": {
      "codemirror_mode": {
        "name": "ipython",
        "version": 3
      },
      "file_extension": ".py",
      "mimetype": "text/x-python",
      "name": "python",
      "nbconvert_exporter": "python",
      "pygments_lexer": "ipython3",
      "version": "3.8.11"
    },
    "colab": {
      "name": "Simple calculator.ipynb",
      "provenance": [],
      "collapsed_sections": [],
      "include_colab_link": true
    }
  },
  "cells": [
    {
      "cell_type": "markdown",
      "metadata": {
        "id": "view-in-github",
        "colab_type": "text"
      },
      "source": [
        "<a href=\"https://colab.research.google.com/github/Prem-Jain/Python/blob/main/Simple_calculator.ipynb\" target=\"_parent\"><img src=\"https://colab.research.google.com/assets/colab-badge.svg\" alt=\"Open In Colab\"/></a>"
      ]
    },
    {
      "cell_type": "markdown",
      "metadata": {
        "id": "R9bDLF2a20Uc"
      },
      "source": [
        "**Simple** **Calculator**"
      ],
      "id": "R9bDLF2a20Uc"
    },
    {
      "cell_type": "code",
      "metadata": {
        "id": "cd233062",
        "outputId": "5d6b9e9f-7963-43ad-fa1a-5083b3292681"
      },
      "source": [
        "a, s, b = input(\"Enter the expression : \").split()\n",
        "a = int(a)\n",
        "b = int(b)\n",
        "if s == '+' :\n",
        "    print(\"{0} {1} {2} = {3}\".format(a,s,b,a+b))\n",
        "elif s == '-' :\n",
        "    print(\"{0} {1} {2} = {3}\".format(a,s,b,a-b))\n",
        "elif s == '*' :\n",
        "    print(\"{0} {1} {2} = {3}\".format(a,s,b,a*b))\n",
        "elif s == '/' :\n",
        "    print(\"{0} {1} {2} = {3}\".format(a,s,b,a/b))\n",
        "elif s == '%' :\n",
        "    print(\"{0} {1} {2} = {3}\".format(a,s,b,a%b))\n",
        "elif s == '**' :\n",
        "    print(\"{0} {1} {2} = {3}\".format(a,s,b,a**b))\n",
        "elif s == '//' :\n",
        "    print(\"{0} {1} {2} = {3}\".format(a,s,b,a//b))"
      ],
      "id": "cd233062",
      "execution_count": null,
      "outputs": [
        {
          "name": "stdout",
          "output_type": "stream",
          "text": [
            "Enter the expression : 22 // 7\n",
            "22 // 7 = 3\n"
          ]
        }
      ]
    }
  ]
}