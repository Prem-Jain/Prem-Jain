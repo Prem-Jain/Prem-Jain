{
  "nbformat": 4,
  "nbformat_minor": 5,
  "metadata": {
    "kernelspec": {
      "display_name": "Python 3",
      "language": "python",
      "name": "python3"
    },
    "language_info": {
      "codemirror_mode": {
        "name": "ipython",
        "version": 3
      },
      "file_extension": ".py",
      "mimetype": "text/x-python",
      "name": "python",
      "nbconvert_exporter": "python",
      "pygments_lexer": "ipython3",
      "version": "3.8.11"
    },
    "colab": {
      "name": "Nested_Lists.ipynb",
      "provenance": [],
      "collapsed_sections": [],
      "include_colab_link": true
    }
  },
  "cells": [
    {
      "cell_type": "markdown",
      "metadata": {
        "id": "view-in-github",
        "colab_type": "text"
      },
      "source": [
        "<a href=\"https://colab.research.google.com/github/Prem-Jain/Python/blob/main/Nested_Lists.ipynb\" target=\"_parent\"><img src=\"https://colab.research.google.com/assets/colab-badge.svg\" alt=\"Open In Colab\"/></a>"
      ]
    },
    {
      "cell_type": "markdown",
      "metadata": {
        "id": "87762f06"
      },
      "source": [
        "# Nested_Lists"
      ],
      "id": "87762f06"
    },
    {
      "cell_type": "code",
      "metadata": {
        "colab": {
          "base_uri": "https://localhost:8080/"
        },
        "id": "4330991d",
        "outputId": "3f6a0643-04e7-4bf4-839f-76667fc383c8"
      },
      "source": [
        "a = [1,2,3,4,5]\n",
        "a[1:6]"
      ],
      "id": "4330991d",
      "execution_count": 16,
      "outputs": [
        {
          "output_type": "execute_result",
          "data": {
            "text/plain": [
              "[2, 3, 4, 5]"
            ]
          },
          "metadata": {
            "tags": []
          },
          "execution_count": 16
        }
      ]
    },
    {
      "cell_type": "code",
      "metadata": {
        "colab": {
          "base_uri": "https://localhost:8080/"
        },
        "id": "73414635",
        "outputId": "fce41488-f69c-4af7-b485-e52789f7c0ba"
      },
      "source": [
        "a.insert(5,[6,7,8,9])\n",
        "print(a)"
      ],
      "id": "73414635",
      "execution_count": 17,
      "outputs": [
        {
          "output_type": "stream",
          "text": [
            "[1, 2, 3, 4, 5, [6, 7, 8, 9]]\n"
          ],
          "name": "stdout"
        }
      ]
    },
    {
      "cell_type": "code",
      "metadata": {
        "colab": {
          "base_uri": "https://localhost:8080/"
        },
        "id": "de0a4e45",
        "outputId": "201e0c89-64fc-4d1d-b150-a92bec94b4f1"
      },
      "source": [
        "a.insert(6,{1 : 'PremJain', 2 : '801'})\n",
        "print(a)"
      ],
      "id": "de0a4e45",
      "execution_count": 18,
      "outputs": [
        {
          "output_type": "stream",
          "text": [
            "[1, 2, 3, 4, 5, [6, 7, 8, 9], {1: 'PremJain', 2: '801'}]\n"
          ],
          "name": "stdout"
        }
      ]
    },
    {
      "cell_type": "code",
      "metadata": {
        "colab": {
          "base_uri": "https://localhost:8080/"
        },
        "id": "ac939422",
        "outputId": "a2802a57-bcd4-442d-f4a0-85c45564b475"
      },
      "source": [
        "a[5][2]"
      ],
      "id": "ac939422",
      "execution_count": 19,
      "outputs": [
        {
          "output_type": "execute_result",
          "data": {
            "text/plain": [
              "8"
            ]
          },
          "metadata": {
            "tags": []
          },
          "execution_count": 19
        }
      ]
    },
    {
      "cell_type": "code",
      "metadata": {
        "colab": {
          "base_uri": "https://localhost:8080/",
          "height": 35
        },
        "id": "72b2060e",
        "outputId": "9c260393-f9ed-4e4f-9644-b2d552420ec3"
      },
      "source": [
        "a[6][2]"
      ],
      "id": "72b2060e",
      "execution_count": 20,
      "outputs": [
        {
          "output_type": "execute_result",
          "data": {
            "application/vnd.google.colaboratory.intrinsic+json": {
              "type": "string"
            },
            "text/plain": [
              "'801'"
            ]
          },
          "metadata": {
            "tags": []
          },
          "execution_count": 20
        }
      ]
    },
    {
      "cell_type": "code",
      "metadata": {
        "scrolled": false,
        "colab": {
          "base_uri": "https://localhost:8080/"
        },
        "id": "fe6dd4aa",
        "outputId": "f7400502-a4bf-475c-85c9-c13455eb626c"
      },
      "source": [
        "print (range(1,4))"
      ],
      "id": "fe6dd4aa",
      "execution_count": 21,
      "outputs": [
        {
          "output_type": "stream",
          "text": [
            "range(1, 4)\n"
          ],
          "name": "stdout"
        }
      ]
    },
    {
      "cell_type": "code",
      "metadata": {
        "scrolled": false,
        "colab": {
          "base_uri": "https://localhost:8080/"
        },
        "id": "07754ef6",
        "outputId": "b588a00a-d048-462a-d726-5622fecc5f7e"
      },
      "source": [
        "print(a[6].keys())"
      ],
      "id": "07754ef6",
      "execution_count": 22,
      "outputs": [
        {
          "output_type": "stream",
          "text": [
            "dict_keys([1, 2])\n"
          ],
          "name": "stdout"
        }
      ]
    },
    {
      "cell_type": "code",
      "metadata": {
        "colab": {
          "base_uri": "https://localhost:8080/"
        },
        "id": "2a5f6779",
        "outputId": "b8e38635-5480-4fe3-e99d-9da8d8d121b2"
      },
      "source": [
        "print(a[5])"
      ],
      "id": "2a5f6779",
      "execution_count": 23,
      "outputs": [
        {
          "output_type": "stream",
          "text": [
            "[6, 7, 8, 9]\n"
          ],
          "name": "stdout"
        }
      ]
    },
    {
      "cell_type": "code",
      "metadata": {
        "colab": {
          "base_uri": "https://localhost:8080/"
        },
        "id": "055e49e5",
        "outputId": "bc20fb6e-f72b-40bb-c252-aff6a37ad834"
      },
      "source": [
        "print(a[6].values())"
      ],
      "id": "055e49e5",
      "execution_count": 24,
      "outputs": [
        {
          "output_type": "stream",
          "text": [
            "dict_values(['PremJain', '801'])\n"
          ],
          "name": "stdout"
        }
      ]
    },
    {
      "cell_type": "code",
      "metadata": {
        "colab": {
          "base_uri": "https://localhost:8080/"
        },
        "id": "6065839a",
        "outputId": "80c3bda4-d5cc-433a-f005-42b8895d9e86"
      },
      "source": [
        "a[5].insert(2,(10,11,12))\n",
        "print(a)"
      ],
      "id": "6065839a",
      "execution_count": 25,
      "outputs": [
        {
          "output_type": "stream",
          "text": [
            "[1, 2, 3, 4, 5, [6, 7, (10, 11, 12), 8, 9], {1: 'PremJain', 2: '801'}]\n"
          ],
          "name": "stdout"
        }
      ]
    },
    {
      "cell_type": "code",
      "metadata": {
        "colab": {
          "base_uri": "https://localhost:8080/"
        },
        "id": "SzsBX6Dzp7sE",
        "outputId": "7e6abc4b-ec25-4dae-da21-51c92232388f"
      },
      "source": [
        "a[5].append(801)\n",
        "print(a)"
      ],
      "id": "SzsBX6Dzp7sE",
      "execution_count": 26,
      "outputs": [
        {
          "output_type": "stream",
          "text": [
            "[1, 2, 3, 4, 5, [6, 7, (10, 11, 12), 8, 9, 801], {1: 'PremJain', 2: '801'}]\n"
          ],
          "name": "stdout"
        }
      ]
    },
    {
      "cell_type": "code",
      "metadata": {
        "id": "_x04IuQ_qjGW"
      },
      "source": [
        "a[6][3] = \"Divine\""
      ],
      "id": "_x04IuQ_qjGW",
      "execution_count": 27,
      "outputs": []
    },
    {
      "cell_type": "code",
      "metadata": {
        "colab": {
          "base_uri": "https://localhost:8080/"
        },
        "id": "GbJ7176orlOj",
        "outputId": "4f4f4393-8443-4270-b09c-901980cb6694"
      },
      "source": [
        "print(a)"
      ],
      "id": "GbJ7176orlOj",
      "execution_count": 28,
      "outputs": [
        {
          "output_type": "stream",
          "text": [
            "[1, 2, 3, 4, 5, [6, 7, (10, 11, 12), 8, 9, 801], {1: 'PremJain', 2: '801', 3: 'Divine'}]\n"
          ],
          "name": "stdout"
        }
      ]
    }
  ]
}