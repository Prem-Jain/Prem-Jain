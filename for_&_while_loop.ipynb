{
  "nbformat": 4,
  "nbformat_minor": 5,
  "metadata": {
    "kernelspec": {
      "display_name": "Python 3",
      "language": "python",
      "name": "python3"
    },
    "language_info": {
      "codemirror_mode": {
        "name": "ipython",
        "version": 3
      },
      "file_extension": ".py",
      "mimetype": "text/x-python",
      "name": "python",
      "nbconvert_exporter": "python",
      "pygments_lexer": "ipython3",
      "version": "3.8.10"
    },
    "colab": {
      "name": "for & while loop.ipynb",
      "provenance": [],
      "include_colab_link": true
    }
  },
  "cells": [
    {
      "cell_type": "markdown",
      "metadata": {
        "id": "view-in-github",
        "colab_type": "text"
      },
      "source": [
        "<a href=\"https://colab.research.google.com/github/Prem-Jain/Prem-Jain/blob/main/for_%26_while_loop.ipynb\" target=\"_parent\"><img src=\"https://colab.research.google.com/assets/colab-badge.svg\" alt=\"Open In Colab\"/></a>"
      ]
    },
    {
      "cell_type": "markdown",
      "metadata": {
        "id": "9XV9V0J2dl1w"
      },
      "source": [
        "**For**"
      ],
      "id": "9XV9V0J2dl1w"
    },
    {
      "cell_type": "code",
      "metadata": {
        "colab": {
          "base_uri": "https://localhost:8080/"
        },
        "id": "941a9194",
        "outputId": "847cb6ae-ce24-493c-a73c-d11de73af52f"
      },
      "source": [
        "List = [8, \"Hello\", 0, \"World\", 1]\n",
        "for i in List:\n",
        "    print(List)"
      ],
      "id": "941a9194",
      "execution_count": null,
      "outputs": [
        {
          "output_type": "stream",
          "text": [
            "[8, 'Hello', 0, 'World', 1]\n",
            "[8, 'Hello', 0, 'World', 1]\n",
            "[8, 'Hello', 0, 'World', 1]\n",
            "[8, 'Hello', 0, 'World', 1]\n",
            "[8, 'Hello', 0, 'World', 1]\n"
          ],
          "name": "stdout"
        }
      ]
    },
    {
      "cell_type": "code",
      "metadata": {
        "colab": {
          "base_uri": "https://localhost:8080/"
        },
        "id": "d9730eb8",
        "outputId": "c1652a4a-1fe9-4b13-f188-c34896892c97"
      },
      "source": [
        "for i in range(0,4):\n",
        "    print(List)"
      ],
      "id": "d9730eb8",
      "execution_count": null,
      "outputs": [
        {
          "output_type": "stream",
          "text": [
            "[8, 'Hello', 0, 'World', 1]\n",
            "[8, 'Hello', 0, 'World', 1]\n",
            "[8, 'Hello', 0, 'World', 1]\n",
            "[8, 'Hello', 0, 'World', 1]\n"
          ],
          "name": "stdout"
        }
      ]
    },
    {
      "cell_type": "code",
      "metadata": {
        "colab": {
          "base_uri": "https://localhost:8080/"
        },
        "id": "1828ed32",
        "outputId": "8e324acb-47c4-4a9b-9cf4-09195ea50ef9"
      },
      "source": [
        "x = int(input())\n",
        "for i in range(0 , x):\n",
        "    print(List)"
      ],
      "id": "1828ed32",
      "execution_count": null,
      "outputs": [
        {
          "output_type": "stream",
          "text": [
            "8\n",
            "[8, 'Hello', 0, 'World', 1]\n",
            "[8, 'Hello', 0, 'World', 1]\n",
            "[8, 'Hello', 0, 'World', 1]\n",
            "[8, 'Hello', 0, 'World', 1]\n",
            "[8, 'Hello', 0, 'World', 1]\n",
            "[8, 'Hello', 0, 'World', 1]\n",
            "[8, 'Hello', 0, 'World', 1]\n",
            "[8, 'Hello', 0, 'World', 1]\n"
          ],
          "name": "stdout"
        }
      ]
    },
    {
      "cell_type": "code",
      "metadata": {
        "colab": {
          "base_uri": "https://localhost:8080/"
        },
        "id": "5b7c82d9",
        "outputId": "3ee3a006-eb4e-459d-a484-fc3372d7c265"
      },
      "source": [
        "for i in List:\n",
        "    print(i)"
      ],
      "id": "5b7c82d9",
      "execution_count": null,
      "outputs": [
        {
          "output_type": "stream",
          "text": [
            "8\n",
            "Hello\n",
            "0\n",
            "World\n",
            "1\n"
          ],
          "name": "stdout"
        }
      ]
    },
    {
      "cell_type": "code",
      "metadata": {
        "colab": {
          "base_uri": "https://localhost:8080/"
        },
        "id": "cc3bd266",
        "outputId": "e2ccd61b-24b4-4733-ba8a-a3fb2bc5dd37"
      },
      "source": [
        "for i in range(10,16):\n",
        "    print(i)"
      ],
      "id": "cc3bd266",
      "execution_count": null,
      "outputs": [
        {
          "output_type": "stream",
          "text": [
            "10\n",
            "11\n",
            "12\n",
            "13\n",
            "14\n",
            "15\n"
          ],
          "name": "stdout"
        }
      ]
    },
    {
      "cell_type": "markdown",
      "metadata": {
        "id": "3f518c4b"
      },
      "source": [
        "# While"
      ],
      "id": "3f518c4b"
    },
    {
      "cell_type": "code",
      "metadata": {
        "colab": {
          "base_uri": "https://localhost:8080/"
        },
        "id": "9c56b01a",
        "outputId": "c018de7f-0e07-4460-e19e-90e6ae602d6b"
      },
      "source": [
        "i=10\n",
        "while(i):\n",
        "    print(i)\n",
        "    i=i-1"
      ],
      "id": "9c56b01a",
      "execution_count": null,
      "outputs": [
        {
          "output_type": "stream",
          "text": [
            "10\n",
            "9\n",
            "8\n",
            "7\n",
            "6\n",
            "5\n",
            "4\n",
            "3\n",
            "2\n",
            "1\n"
          ],
          "name": "stdout"
        }
      ]
    }
  ]
}