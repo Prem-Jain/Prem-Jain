{
  "nbformat": 4,
  "nbformat_minor": 0,
  "metadata": {
    "colab": {
      "provenance": [],
      "collapsed_sections": [],
      "authorship_tag": "ABX9TyOItU0pZCUDpB6gOAeEwcDZ",
      "include_colab_link": true
    },
    "kernelspec": {
      "name": "python3",
      "display_name": "Python 3"
    },
    "language_info": {
      "name": "python"
    }
  },
  "cells": [
    {
      "cell_type": "markdown",
      "metadata": {
        "id": "view-in-github",
        "colab_type": "text"
      },
      "source": [
        "<a href=\"https://colab.research.google.com/github/Prem-Jain/Python/blob/main/DepthFirstSearch.ipynb\" target=\"_parent\"><img src=\"https://colab.research.google.com/assets/colab-badge.svg\" alt=\"Open In Colab\"/></a>"
      ]
    },
    {
      "cell_type": "code",
      "execution_count": null,
      "metadata": {
        "colab": {
          "base_uri": "https://localhost:8080/"
        },
        "id": "jsO7uioEOCR5",
        "outputId": "be869aec-e81f-4f38-d806-056cb6a9768c"
      },
      "outputs": [
        {
          "output_type": "stream",
          "name": "stdout",
          "text": [
            "Following is the Depth-First Search\n",
            "5 3 2 4 8 7 "
          ]
        }
      ],
      "source": [
        "graph = {\n",
        "    5 : [3, 7],\n",
        "    3 : [2, 4],\n",
        "    7 : [8],\n",
        "    2 : [],\n",
        "    4 : [8],\n",
        "    8 : []\n",
        "}\n",
        "visited = set()\n",
        "def dfs(visited, graph, node):\n",
        "  if node not in visited:\n",
        "    print(node, end = \" \")\n",
        "    visited.add(node)\n",
        "    for neighbour in graph[node]:\n",
        "      dfs(visited, graph, neighbour)\n",
        "print(\"Following is the Depth-First Search\")\n",
        "dfs(visited, graph, 5)"
      ]
    },
    {
      "cell_type": "code",
      "source": [
        "from collections import defaultdict\n",
        "\n",
        "class Graph:\n",
        "  def __init__(self,vertices):\n",
        "    self.V = vertices\n",
        "    self.graph = defaultdict(list)\n",
        "  def addEdge(self,u,v):\n",
        "    self.graph[u].append(v)\n",
        "  def dfs(self, visited, node, target, res):\n",
        "    if node not in visited:\n",
        "      res.append(node)\n",
        "      visited.add(node)\n",
        "      if node == target:\n",
        "        return True\n",
        "      for neighbour in self.graph[node]:\n",
        "        if self.dfs(visited, neighbour, target, res):\n",
        "          return True\n",
        "\n",
        "v = int(input(\"Enter no of vertices : \"))\n",
        "g = Graph(v)\n",
        "e = int(input(\"Enter no of edges : \"))\n",
        "print(\"Enter end vertces of each edge : \")\n",
        "for i in range(e):\n",
        "  u, v = [int(x) for x in input().split()]\n",
        "  g.addEdge(u, v)\n",
        "\n",
        "src, target = [int(x) for x in input(\"Enter source and target : \").split()]\n",
        "visited = set()\n",
        "res = []\n",
        "ans =  g.dfs(visited, src, target, res)\n",
        "if ans == True:\n",
        "  print(\"The path is \", *res)\n",
        "else:\n",
        "  print(\"Target cannot be reached\")"
      ],
      "metadata": {
        "colab": {
          "base_uri": "https://localhost:8080/"
        },
        "id": "rsWyqPCvTS8i",
        "outputId": "61a4e980-abbf-43bd-9201-459a828fcb85"
      },
      "execution_count": null,
      "outputs": [
        {
          "output_type": "stream",
          "name": "stdout",
          "text": [
            "Enter no of vertices : 2\n",
            "Enter no of edges : 1\n",
            "Enter end vertces of each edge : \n",
            "0 1\n",
            "Enter source and target : 1 2\n",
            "Target cannot be reached\n"
          ]
        }
      ]
    }
  ]
}