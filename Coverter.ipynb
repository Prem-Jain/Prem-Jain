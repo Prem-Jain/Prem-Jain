{
  "nbformat": 4,
  "nbformat_minor": 5,
  "metadata": {
    "kernelspec": {
      "display_name": "Python 3",
      "language": "python",
      "name": "python3"
    },
    "language_info": {
      "codemirror_mode": {
        "name": "ipython",
        "version": 3
      },
      "file_extension": ".py",
      "mimetype": "text/x-python",
      "name": "python",
      "nbconvert_exporter": "python",
      "pygments_lexer": "ipython3",
      "version": "3.8.11"
    },
    "colab": {
      "name": "Coverter.ipynb",
      "provenance": [],
      "include_colab_link": true
    }
  },
  "cells": [
    {
      "cell_type": "markdown",
      "metadata": {
        "id": "view-in-github",
        "colab_type": "text"
      },
      "source": [
        "<a href=\"https://colab.research.google.com/github/Prem-Jain/Python/blob/main/Coverter.ipynb\" target=\"_parent\"><img src=\"https://colab.research.google.com/assets/colab-badge.svg\" alt=\"Open In Colab\"/></a>"
      ]
    },
    {
      "cell_type": "markdown",
      "metadata": {
        "id": "31ebcee3"
      },
      "source": [
        "# Kilometers to Miles"
      ],
      "id": "31ebcee3"
    },
    {
      "cell_type": "code",
      "metadata": {
        "id": "5950b4d2"
      },
      "source": [
        "def km_m():\n",
        "    print(\"Enter Kilometers : \")\n",
        "    km = float(input())\n",
        "    m = 0.6213711922 * km\n",
        "    print(\"Miles = \",m)"
      ],
      "id": "5950b4d2",
      "execution_count": null,
      "outputs": []
    },
    {
      "cell_type": "markdown",
      "metadata": {
        "id": "d73f16a9"
      },
      "source": [
        "# Miles to Kilometers"
      ],
      "id": "d73f16a9"
    },
    {
      "cell_type": "code",
      "metadata": {
        "scrolled": true,
        "id": "4dfd118f"
      },
      "source": [
        "def m_km():\n",
        "    print(\"Enter miles : \")\n",
        "    m = float(input())\n",
        "    km = 1.609344 * m\n",
        "    print(\"kilometers = \",km)"
      ],
      "id": "4dfd118f",
      "execution_count": null,
      "outputs": []
    },
    {
      "cell_type": "markdown",
      "metadata": {
        "id": "fc7d3c19"
      },
      "source": [
        "# Celsius to Fahrenheit\n"
      ],
      "id": "fc7d3c19"
    },
    {
      "cell_type": "code",
      "metadata": {
        "id": "ce3176b3"
      },
      "source": [
        "def c_f():\n",
        "    print(\"Enter Celsius : \")\n",
        "    c = float(input())\n",
        "    f = (c*9/5) + 32\n",
        "    print(\"Fahrenheit = \",f)"
      ],
      "id": "ce3176b3",
      "execution_count": null,
      "outputs": []
    },
    {
      "cell_type": "markdown",
      "metadata": {
        "id": "24224b81"
      },
      "source": [
        "# Fahrenheit to Celsius"
      ],
      "id": "24224b81"
    },
    {
      "cell_type": "code",
      "metadata": {
        "id": "2694e407"
      },
      "source": [
        "def f_c():\n",
        "    print(\"Enter Fahrenheit : \")\n",
        "    f = float(input())\n",
        "    c = (f-32)*(5/9)\n",
        "    print(\"Celsius = \",c)"
      ],
      "id": "2694e407",
      "execution_count": null,
      "outputs": []
    },
    {
      "cell_type": "code",
      "metadata": {
        "scrolled": true,
        "id": "06ff01a5",
        "outputId": "e27d9644-6e90-45c8-c68e-531f2fe98f35"
      },
      "source": [
        "print(\"Welcome to the converter\")\n",
        "print(\"\"\"\n",
        "1.Kilometer to miles\n",
        "2.Miles to Kilometer\n",
        "3.Celsius to Farenheit\n",
        "4.Farenheit to celsius\n",
        "5.Exit\n",
        "\n",
        "Choose your option\"\"\")\n",
        "x = int(input())\n",
        "while x < 5:\n",
        "    if x == 1 :\n",
        "        km_m()\n",
        "    elif x == 2:\n",
        "        m_km()\n",
        "    elif x == 3:\n",
        "        c_f()\n",
        "    elif x == 4:\n",
        "        f_c()\n",
        "    print(\"Choose your option\")\n",
        "    x = int(input())"
      ],
      "id": "06ff01a5",
      "execution_count": null,
      "outputs": [
        {
          "output_type": "stream",
          "text": [
            "Welcome to the converter\n",
            "\n",
            "1.Kilometer to miles\n",
            "2.Miles to Kilometer\n",
            "3.Celsius to Farenheit\n",
            "4.Farenheit to celsius\n",
            "5.Exit\n",
            "\n",
            "Choose your option\n",
            "1\n",
            "Enter Kilometers : \n",
            "1.6\n",
            "Miles =  0.9941939075200001\n",
            "Choose your option\n",
            "2\n",
            "Enter miles : \n",
            "0.6\n",
            "kilometers =  0.9656064\n",
            "Choose your option\n",
            "3\n",
            "Enter Celsius : \n",
            "100\n",
            "Fahrenheit =  212.0\n",
            "Choose your option\n",
            "4\n",
            "Enter Fahrenheit : \n",
            "99\n",
            "Celsius =  37.22222222222222\n",
            "Choose your option\n",
            "5\n"
          ],
          "name": "stdout"
        }
      ]
    },
    {
      "cell_type": "code",
      "metadata": {
        "id": "a787c966"
      },
      "source": [
        ""
      ],
      "id": "a787c966",
      "execution_count": null,
      "outputs": []
    }
  ]
}