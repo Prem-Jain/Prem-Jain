{
  "nbformat": 4,
  "nbformat_minor": 5,
  "metadata": {
    "kernelspec": {
      "display_name": "Python 3",
      "language": "python",
      "name": "python3"
    },
    "language_info": {
      "codemirror_mode": {
        "name": "ipython",
        "version": 3
      },
      "file_extension": ".py",
      "mimetype": "text/x-python",
      "name": "python",
      "nbconvert_exporter": "python",
      "pygments_lexer": "ipython3",
      "version": "3.8.11"
    },
    "colab": {
      "name": "Prime Numbers.ipynb",
      "provenance": [],
      "include_colab_link": true
    }
  },
  "cells": [
    {
      "cell_type": "markdown",
      "metadata": {
        "id": "view-in-github",
        "colab_type": "text"
      },
      "source": [
        "<a href=\"https://colab.research.google.com/github/Prem-Jain/Python/blob/main/Prime_Numbers.ipynb\" target=\"_parent\"><img src=\"https://colab.research.google.com/assets/colab-badge.svg\" alt=\"Open In Colab\"/></a>"
      ]
    },
    {
      "cell_type": "markdown",
      "metadata": {
        "id": "7ebad19f"
      },
      "source": [
        "# Prime Number"
      ],
      "id": "7ebad19f"
    },
    {
      "cell_type": "code",
      "metadata": {
        "id": "181049a0"
      },
      "source": [
        "def p_num():\n",
        "    num = int(input(\"Enter a number : \"))\n",
        "    if num < 0:\n",
        "        print(\"Given number is negative\")\n",
        "    elif num == 0:\n",
        "        print(\"Given number is zero\")\n",
        "    elif num == 1:\n",
        "        print(\"1 is neither prime nor composite\")\n",
        "    else:\n",
        "        fc = 0\n",
        "        for i in range(2,num):\n",
        "            if num%i == 0:\n",
        "                fc = fc + 1\n",
        "        if fc == 0:\n",
        "            print(\"{} is a prime number.\".format(num))\n",
        "        else:\n",
        "            print(\"{} is a composite number.\".format(num))"
      ],
      "id": "181049a0",
      "execution_count": null,
      "outputs": []
    },
    {
      "cell_type": "markdown",
      "metadata": {
        "id": "2e178cab"
      },
      "source": [
        "# Prime numbers between two numbers"
      ],
      "id": "2e178cab"
    },
    {
      "cell_type": "code",
      "metadata": {
        "id": "6cae87b2"
      },
      "source": [
        "def p_bet_2_num():\n",
        "    x = int(input(\"Enter first boundary : \"))\n",
        "    y = int(input(\"Enter second boundary : \"))\n",
        "    if x > y:\n",
        "        print(\"Invalid Boundaries!!!\")\n",
        "    else:\n",
        "        print(\"Prime numbers between {} and {} are \".format(x, y))\n",
        "        for num in range(x, y+1):\n",
        "            if num > 1:\n",
        "                fc = 0\n",
        "                for i in range(2,num):\n",
        "                    if num%i == 0:\n",
        "                        fc = fc + 1\n",
        "                if fc ==0:\n",
        "                    print(num)"
      ],
      "id": "6cae87b2",
      "execution_count": null,
      "outputs": []
    },
    {
      "cell_type": "code",
      "metadata": {
        "scrolled": true,
        "id": "c6e5e3b7",
        "outputId": "502a05ac-1d1d-49ef-e76b-20a421772007"
      },
      "source": [
        "print(\"Welocme to Prime Program\")\n",
        "print(\"\"\"\n",
        "1.To check whether a given number is prime or not\n",
        "2.To print prime numbers between two numbers\n",
        "3.Exit\"\"\")\n",
        "z = int(input(\"Choose your option : \"))\n",
        "while(True):\n",
        "    if z == 1:\n",
        "        p_num()\n",
        "    elif z == 2:\n",
        "        p_bet_2_num()\n",
        "    elif z == 3:\n",
        "        print(\"Ending Prime Program\")\n",
        "        break\n",
        "    z = int(input(\"Choose your option : \"))"
      ],
      "id": "c6e5e3b7",
      "execution_count": null,
      "outputs": [
        {
          "output_type": "stream",
          "text": [
            "Welocme to Prime Program\n",
            "\n",
            "1.To check whether a given number is prime or not\n",
            "2.To print prime numbers between two numbers\n",
            "3.Exit\n",
            "Choose your option : 1\n",
            "Enter a number : 5\n",
            "5 is a prime number.\n",
            "Choose your option : 2\n",
            "Enter first boundary : 1\n",
            "Enter second boundary : 10\n",
            "Prime numbers between 1 and 10 are \n",
            "2\n",
            "3\n",
            "5\n",
            "7\n",
            "Choose your option : 3\n",
            "Ending Prime Program\n"
          ],
          "name": "stdout"
        }
      ]
    }
  ]
}