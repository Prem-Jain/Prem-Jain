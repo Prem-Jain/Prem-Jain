{
  "nbformat": 4,
  "nbformat_minor": 0,
  "metadata": {
    "colab": {
      "provenance": [],
      "authorship_tag": "ABX9TyP34KLvg5Kjj5xVFpsOCf/V",
      "include_colab_link": true
    },
    "kernelspec": {
      "name": "python3",
      "display_name": "Python 3"
    },
    "language_info": {
      "name": "python"
    }
  },
  "cells": [
    {
      "cell_type": "markdown",
      "metadata": {
        "id": "view-in-github",
        "colab_type": "text"
      },
      "source": [
        "<a href=\"https://colab.research.google.com/github/Prem-Jain/Python/blob/main/Best_First_Search.ipynb\" target=\"_parent\"><img src=\"https://colab.research.google.com/assets/colab-badge.svg\" alt=\"Open In Colab\"/></a>"
      ]
    },
    {
      "cell_type": "code",
      "execution_count": null,
      "metadata": {
        "colab": {
          "base_uri": "https://localhost:8080/"
        },
        "id": "iAG5dQVgHmjh",
        "outputId": "7f7e14be-c72a-43cf-ce37-812817519715"
      },
      "outputs": [
        {
          "output_type": "stream",
          "name": "stdout",
          "text": [
            "Enter no of vertices : 4\n",
            "Enter no of edges : 3\n",
            "Enter parent, child and cost of vertex :  0 1 1\n",
            "0 2 2\n",
            "2 3 0\n",
            "Enter source vertex : 0\n",
            "Enter target vertex : 3\n",
            "0 1 2 3 \n"
          ]
        }
      ],
      "source": [
        "from queue import PriorityQueue\n",
        "\n",
        "def best_first_search(src, target, n):\n",
        "  visited = [False] * n;\n",
        "  pq = PriorityQueue()\n",
        "  pq.put((0, src))\n",
        "  visited[src] = True\n",
        "  while pq.empty() == False:\n",
        "    u = pq.get()[1]\n",
        "    print(u, end=\" \")\n",
        "    if u == target:\n",
        "      break\n",
        "    for v, c in graph[u]:\n",
        "      if visited[v] == False:\n",
        "        visited[v] = True\n",
        "        pq.put((c, v))\n",
        "  print()\n",
        "\n",
        "def addedge(x, y, cost):\n",
        "  graph[x].append((y, cost))\n",
        "  graph[y].append((x, cost))\n",
        "\n",
        "v = int(input(\"Enter no of vertices : \")) \n",
        "graph = [[] for i in range(v)]\n",
        "e = int(input(\"Enter no of edges : \"))\n",
        "print(\"Enter parent, child and cost of vertex : \", end = \" \")\n",
        "for i in range(e):\n",
        "  par, child, cost = [int(x) for x in input().split()]\n",
        "  addedge(par, child, cost)\n",
        "\n",
        "source = int(input(\"Enter source vertex : \"))\n",
        "target = int(input(\"Enter target vertex : \"))\n",
        "best_first_search(source, target, v)"
      ]
    }
  ]
}