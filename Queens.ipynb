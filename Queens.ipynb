{
  "nbformat": 4,
  "nbformat_minor": 0,
  "metadata": {
    "colab": {
      "provenance": [],
      "authorship_tag": "ABX9TyMou3R1zIi8CLAMMdEaU/rF",
      "include_colab_link": true
    },
    "kernelspec": {
      "name": "python3",
      "display_name": "Python 3"
    },
    "language_info": {
      "name": "python"
    }
  },
  "cells": [
    {
      "cell_type": "markdown",
      "metadata": {
        "id": "view-in-github",
        "colab_type": "text"
      },
      "source": [
        "<a href=\"https://colab.research.google.com/github/Prem-Jain/Python/blob/main/Queens.ipynb\" target=\"_parent\"><img src=\"https://colab.research.google.com/assets/colab-badge.svg\" alt=\"Open In Colab\"/></a>"
      ]
    },
    {
      "cell_type": "code",
      "execution_count": null,
      "metadata": {
        "colab": {
          "base_uri": "https://localhost:8080/"
        },
        "id": "PRHwQiGzbyhd",
        "outputId": "d947785b-3a41-4b51-e2d9-82dbb98472ff"
      },
      "outputs": [
        {
          "output_type": "stream",
          "name": "stdout",
          "text": [
            "Enter the board Size : 6\n",
            "- - - Q - - \n",
            "Q - - - - - \n",
            "- - - - Q - \n",
            "- Q - - - - \n",
            "- - - - - Q \n",
            "- - Q - - - \n",
            "\n",
            "- - - - Q - \n",
            "- - Q - - - \n",
            "Q - - - - - \n",
            "- - - - - Q \n",
            "- - - Q - - \n",
            "- Q - - - - \n",
            "\n",
            "- Q - - - - \n",
            "- - - Q - - \n",
            "- - - - - Q \n",
            "Q - - - - - \n",
            "- - Q - - - \n",
            "- - - - Q - \n",
            "\n",
            "- - Q - - - \n",
            "- - - - - Q \n",
            "- Q - - - - \n",
            "- - - - Q - \n",
            "Q - - - - - \n",
            "- - - Q - - \n",
            "\n"
          ]
        }
      ],
      "source": [
        "def sol(board):\n",
        "  for i in range(n):\n",
        "    for j in range(n):\n",
        "      print(board[i][j], end = \" \")\n",
        "    print()\n",
        "  print()\n",
        "\n",
        "def isSafe(board, row, col):\n",
        "  for i in range(col):\n",
        "    if board[row][i] == 'Q':\n",
        "      return False\n",
        "  for i, j in zip(range(row, -1, -1), range(col, -1, -1)):\n",
        "    if board[i][j] == 'Q':\n",
        "      return False\n",
        "  for i, j in zip(range(row, n, 1), range(col, -1, -1)):\n",
        "    if board[i][j] == 'Q':\n",
        "      return False\n",
        "  return True\n",
        "\n",
        "def nQueens(board, col):\n",
        "  if col >= n:\n",
        "    sol(board)\n",
        "  for i in range(n):\n",
        "    if isSafe(board, i, col):\n",
        "      board[i][col] = 'Q'\n",
        "      if nQueens(board, col + 1) == True:\n",
        "        return True\n",
        "      board[i][col] = '-' \n",
        "\n",
        "n = int(input(\"Enter the board Size : \"))\n",
        "board = [['-' for i in range(n)] for j in range(n)]\n",
        "nQueens(board, 0)"
      ]
    },
    {
      "cell_type": "code",
      "source": [
        "board"
      ],
      "metadata": {
        "colab": {
          "base_uri": "https://localhost:8080/"
        },
        "id": "PS4jSoL3iPdJ",
        "outputId": "f65b9e44-23c8-48c9-ce28-1a0132a1cddf"
      },
      "execution_count": null,
      "outputs": [
        {
          "output_type": "execute_result",
          "data": {
            "text/plain": [
              "[['-', '-', '-', '-'],\n",
              " ['-', '-', '-', '-'],\n",
              " ['-', '-', '-', '-'],\n",
              " ['-', '-', '-', '-']]"
            ]
          },
          "metadata": {},
          "execution_count": 45
        }
      ]
    },
    {
      "cell_type": "code",
      "source": [
        "board[1][2] = 'Q'\n",
        "print(board)"
      ],
      "metadata": {
        "colab": {
          "base_uri": "https://localhost:8080/"
        },
        "id": "g44OMT72jt-v",
        "outputId": "926bfda2-b84d-442d-d464-7dcdfc019795"
      },
      "execution_count": null,
      "outputs": [
        {
          "output_type": "stream",
          "name": "stdout",
          "text": [
            "[['-', '-', '-', '-'], ['-', '-', 'Q', '-'], ['-', '-', '-', '-'], ['-', '-', '-', '-']]\n"
          ]
        }
      ]
    },
    {
      "cell_type": "code",
      "source": [
        "board = [['-' for i in range(n)] for j in range(n)]"
      ],
      "metadata": {
        "id": "ltInu6jvlSXL"
      },
      "execution_count": null,
      "outputs": []
    },
    {
      "cell_type": "code",
      "source": [
        "class QueenChessBoard:\n",
        "    def __init__(self, size):\n",
        "        self.size = size\n",
        "        self.columns = []\n",
        "    def place_in_next_row(self, column):\n",
        "        self.columns.append(column)\n",
        "    def remove_in_current_row(self):\n",
        "        return self.columns.pop()\n",
        "    def is_this_column_safe_in_next_row(self, column):\n",
        "        row = len(self.columns)\n",
        "        for queen_column in self.columns:\n",
        "            if column == queen_column:\n",
        "                return False\n",
        "        for queen_row, queen_column in enumerate(self.columns):\n",
        "            if queen_column - queen_row == column - row:\n",
        "                return False\n",
        "        for queen_row, queen_column in enumerate(self.columns):\n",
        "            if ((self.size - queen_column) - queen_row\n",
        "                == (self.size - column) - row):\n",
        "                return False\n",
        "        return True\n",
        "    def display(self):\n",
        "        for row in range(self.size):\n",
        "            for column in range(self.size):\n",
        "                if column == self.columns[row]:\n",
        "                    print('Q', end=' ')\n",
        "                else:\n",
        "                    print('.', end=' ')\n",
        "            print()\n",
        "def solve_queen(size):\n",
        "    board = QueenChessBoard(size)\n",
        "    number_of_solutions = 0\n",
        "    row = 0\n",
        "    column = 0\n",
        "    while True:\n",
        "        while column < size:\n",
        "            if board.is_this_column_safe_in_next_row(column):\n",
        "                board.place_in_next_row(column)\n",
        "                row += 1\n",
        "                column = 0\n",
        "                break\n",
        "            else:\n",
        "                column += 1\n",
        "        if (column == size or row == size):\n",
        "            if row == size:\n",
        "                board.display()\n",
        "                print()\n",
        "                number_of_solutions += 1\n",
        "                board.remove_in_current_row()\n",
        "                row -= 1\n",
        "            try:\n",
        "                prev_column = board.remove_in_current_row()\n",
        "            except IndexError:\n",
        "                break\n",
        "            row -= 1\n",
        "            column = 1 + prev_column\n",
        " \n",
        "    print('Number of solutions:', number_of_solutions)\n",
        "n = int(input('Enter n: '))\n",
        "solve_queen(n)"
      ],
      "metadata": {
        "colab": {
          "base_uri": "https://localhost:8080/"
        },
        "id": "DXzQuWRuptbN",
        "outputId": "d3a8a4c6-ee0a-4d98-9866-723469f72276"
      },
      "execution_count": null,
      "outputs": [
        {
          "output_type": "stream",
          "name": "stdout",
          "text": [
            "Enter n: 4\n",
            ". Q . . \n",
            ". . . Q \n",
            "Q . . . \n",
            ". . Q . \n",
            "\n",
            ". . Q . \n",
            "Q . . . \n",
            ". . . Q \n",
            ". Q . . \n",
            "\n",
            "Number of solutions: 2\n"
          ]
        }
      ]
    },
    {
      "cell_type": "code",
      "source": [
        "import numpy as np"
      ],
      "metadata": {
        "id": "Jeod06IVqj-T"
      },
      "execution_count": null,
      "outputs": []
    },
    {
      "cell_type": "code",
      "source": [
        "np?"
      ],
      "metadata": {
        "id": "Y0ZPG8naqmtJ"
      },
      "execution_count": null,
      "outputs": []
    },
    {
      "cell_type": "code",
      "source": [],
      "metadata": {
        "id": "RBJgu6sKqoSZ"
      },
      "execution_count": null,
      "outputs": []
    }
  ]
}