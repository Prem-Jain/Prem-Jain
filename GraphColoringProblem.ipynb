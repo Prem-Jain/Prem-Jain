{
  "nbformat": 4,
  "nbformat_minor": 0,
  "metadata": {
    "colab": {
      "provenance": [],
      "authorship_tag": "ABX9TyNKLggBO2qoCCLj5g0GCbP0",
      "include_colab_link": true
    },
    "kernelspec": {
      "name": "python3",
      "display_name": "Python 3"
    },
    "language_info": {
      "name": "python"
    }
  },
  "cells": [
    {
      "cell_type": "markdown",
      "metadata": {
        "id": "view-in-github",
        "colab_type": "text"
      },
      "source": [
        "<a href=\"https://colab.research.google.com/github/Prem-Jain/Python/blob/main/GraphColoringProblem.ipynb\" target=\"_parent\"><img src=\"https://colab.research.google.com/assets/colab-badge.svg\" alt=\"Open In Colab\"/></a>"
      ]
    },
    {
      "cell_type": "code",
      "execution_count": null,
      "metadata": {
        "colab": {
          "base_uri": "https://localhost:8080/"
        },
        "id": "cctpkCkKiPN5",
        "outputId": "8bb4f2e9-1f37-4230-ab9a-f82e17308772"
      },
      "outputs": [
        {
          "output_type": "stream",
          "name": "stdout",
          "text": [
            "6\n",
            "0 1 1 0 1 0\n",
            "1 0 1 1 0 1\n",
            "1 1 0 1 1 0\n",
            "0 1 1 0 0 1\n",
            "1 0 1 0 0 1\n",
            "0 1 0 1 1 0\n",
            "Node a  =  Yellow\n",
            "Node b  =  Blue\n",
            "Node c  =  Red\n",
            "Node d  =  Yellow\n",
            "Node e  =  Blue\n",
            "Node f  =  Red\n"
          ]
        }
      ],
      "source": [
        "n = int(input(\"Enter no of nodes : \"))\n",
        "print(\"Enter the Adjaceny matrix of grpah : \")\n",
        "G = [[int(x) for x in input().split()] for j in range(n)]\n",
        "node = \"abcdef\"\n",
        "t_={}\n",
        "for i in range(len(G)):\n",
        "  t_[node[i]] = i\n",
        "\n",
        "degree =[]\n",
        "for i in range(len(G)):\n",
        "  degree.append(sum(G[i]))\n",
        "\n",
        "colorDict = {}\n",
        "for i in range(len(G)):\n",
        "  colorDict[node[i]]=[\"Blue\",\"Red\",\"Yellow\",\"Green\"]\n",
        "\n",
        "sortedNode=[]\n",
        "indeks = []\n",
        "\n",
        "for i in range(len(degree)):\n",
        "  _max = 0\n",
        "  j = 0\n",
        "  for j in range(len(degree)):\n",
        "    if j not in indeks:\n",
        "      if degree[j] > _max:\n",
        "        _max = degree[j]\n",
        "        idx = j\n",
        "  indeks.append(idx)\n",
        "  sortedNode.append(node[idx])\n",
        "\n",
        "theSolution={}\n",
        "for n in sortedNode:\n",
        "  setTheColor = colorDict[n]\n",
        "  theSolution[n] = setTheColor[0]\n",
        "  adjacentNode = G[t_[n]]\n",
        "  for j in range(len(adjacentNode)):\n",
        "    if adjacentNode[j]==1 and (setTheColor[0] in colorDict[node[j]]):\n",
        "      colorDict[node[j]].remove(setTheColor[0])\n",
        "\n",
        "for t,w in sorted(theSolution.items()):\n",
        "  print(\"Node\",t,\" = \",w)"
      ]
    },
    {
      "cell_type": "code",
      "source": [
        "G = [[ 0, 1, 1, 0, 1, 0],\n",
        "     [ 1, 0, 1, 1, 0, 1],\n",
        "     [ 1, 1, 0, 1, 1, 0],\n",
        "     [ 0, 1, 1, 0, 0, 1],\n",
        "     [ 1, 0, 1, 0, 0, 1],\n",
        "     [ 0, 1, 0, 1, 1, 0]]"
      ],
      "metadata": {
        "id": "dK5TY9sKjE38"
      },
      "execution_count": null,
      "outputs": []
    }
  ]
}