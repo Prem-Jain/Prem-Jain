{
  "nbformat": 4,
  "nbformat_minor": 0,
  "metadata": {
    "kernelspec": {
      "display_name": "Python 3",
      "language": "python",
      "name": "python3"
    },
    "language_info": {
      "codemirror_mode": {
        "name": "ipython",
        "version": 3
      },
      "file_extension": ".py",
      "mimetype": "text/x-python",
      "name": "python",
      "nbconvert_exporter": "python",
      "pygments_lexer": "ipython3",
      "version": "3.7.10"
    },
    "colab": {
      "name": "Variable Assignment.ipynb",
      "provenance": [],
      "include_colab_link": true
    }
  },
  "cells": [
    {
      "cell_type": "markdown",
      "metadata": {
        "id": "view-in-github",
        "colab_type": "text"
      },
      "source": [
        "<a href=\"https://colab.research.google.com/github/Prem-Jain/Prem-Jain/blob/main/Variable_Assignment.ipynb\" target=\"_parent\"><img src=\"https://colab.research.google.com/assets/colab-badge.svg\" alt=\"Open In Colab\"/></a>"
      ]
    },
    {
      "cell_type": "markdown",
      "metadata": {
        "id": "HAeU1diSd6L1"
      },
      "source": [
        "## Dynamic Typing"
      ]
    },
    {
      "cell_type": "code",
      "metadata": {
        "id": "Hg3r6SmLd6L7"
      },
      "source": [
        "Dynamic = 801"
      ],
      "execution_count": 7,
      "outputs": []
    },
    {
      "cell_type": "code",
      "metadata": {
        "id": "JGXcDWZod6L-",
        "colab": {
          "base_uri": "https://localhost:8080/"
        },
        "outputId": "f709c5db-3b7d-4e38-8501-c7ba030758cc"
      },
      "source": [
        "Dynamic"
      ],
      "execution_count": 8,
      "outputs": [
        {
          "output_type": "execute_result",
          "data": {
            "text/plain": [
              "801"
            ]
          },
          "metadata": {
            "tags": []
          },
          "execution_count": 8
        }
      ]
    },
    {
      "cell_type": "code",
      "metadata": {
        "id": "IQKJKHJnd6MB",
        "colab": {
          "base_uri": "https://localhost:8080/"
        },
        "outputId": "7e146ae9-ab88-462f-d1e7-a1060f2eb035"
      },
      "source": [
        "type(Dynamic)"
      ],
      "execution_count": 9,
      "outputs": [
        {
          "output_type": "execute_result",
          "data": {
            "text/plain": [
              "int"
            ]
          },
          "metadata": {
            "tags": []
          },
          "execution_count": 9
        }
      ]
    },
    {
      "cell_type": "code",
      "metadata": {
        "id": "pzznJqVhd6MD"
      },
      "source": [
        "Dynamic = ('Int', \"Float\")"
      ],
      "execution_count": 10,
      "outputs": []
    },
    {
      "cell_type": "code",
      "metadata": {
        "id": "S3_9itBZd6MD",
        "colab": {
          "base_uri": "https://localhost:8080/"
        },
        "outputId": "71a78b16-79ac-476c-9f57-ebc371e32f09"
      },
      "source": [
        "Dynamic"
      ],
      "execution_count": 11,
      "outputs": [
        {
          "output_type": "execute_result",
          "data": {
            "text/plain": [
              "('Int', 'Float')"
            ]
          },
          "metadata": {
            "tags": []
          },
          "execution_count": 11
        }
      ]
    },
    {
      "cell_type": "code",
      "metadata": {
        "id": "dyMyqStQd6MF",
        "colab": {
          "base_uri": "https://localhost:8080/"
        },
        "outputId": "84157741-3ab2-42ed-e1bd-050c2ee0fc3b"
      },
      "source": [
        "type(Dynamic)"
      ],
      "execution_count": 12,
      "outputs": [
        {
          "output_type": "execute_result",
          "data": {
            "text/plain": [
              "tuple"
            ]
          },
          "metadata": {
            "tags": []
          },
          "execution_count": 12
        }
      ]
    },
    {
      "cell_type": "markdown",
      "metadata": {
        "id": "5f5_DJ88d6MG"
      },
      "source": [
        "## Reassigning Variables\n",
        "Python lets you reassign variables with a reference to the same object."
      ]
    },
    {
      "cell_type": "code",
      "metadata": {
        "id": "dw1jIB7Gd6MJ"
      },
      "source": [
        "Num = 801\n",
        "Num = Num + 10"
      ],
      "execution_count": 13,
      "outputs": []
    },
    {
      "cell_type": "code",
      "metadata": {
        "id": "RHEBd0wwd6ML",
        "colab": {
          "base_uri": "https://localhost:8080/"
        },
        "outputId": "f6508689-5a18-4dfb-fda3-94f9f2cac674"
      },
      "source": [
        "Num"
      ],
      "execution_count": 14,
      "outputs": [
        {
          "output_type": "execute_result",
          "data": {
            "text/plain": [
              "811"
            ]
          },
          "metadata": {
            "tags": []
          },
          "execution_count": 14
        }
      ]
    },
    {
      "cell_type": "code",
      "metadata": {
        "id": "3UxlknR_d6MN"
      },
      "source": [
        "Num += 10"
      ],
      "execution_count": 15,
      "outputs": []
    },
    {
      "cell_type": "code",
      "metadata": {
        "id": "1URDkhDdd6MO",
        "colab": {
          "base_uri": "https://localhost:8080/"
        },
        "outputId": "026d76b7-1293-4f39-de7b-c3421a82e271"
      },
      "source": [
        "Num"
      ],
      "execution_count": 16,
      "outputs": [
        {
          "output_type": "execute_result",
          "data": {
            "text/plain": [
              "821"
            ]
          },
          "metadata": {
            "tags": []
          },
          "execution_count": 16
        }
      ]
    },
    {
      "cell_type": "code",
      "metadata": {
        "id": "C5mbA5YSd6MP"
      },
      "source": [
        "Num *= 801"
      ],
      "execution_count": 17,
      "outputs": []
    },
    {
      "cell_type": "code",
      "metadata": {
        "id": "9mzmDbKad6MQ",
        "colab": {
          "base_uri": "https://localhost:8080/"
        },
        "outputId": "491411f1-48ca-4d6b-d506-e6342be74b93"
      },
      "source": [
        "Num"
      ],
      "execution_count": 18,
      "outputs": [
        {
          "output_type": "execute_result",
          "data": {
            "text/plain": [
              "657621"
            ]
          },
          "metadata": {
            "tags": []
          },
          "execution_count": 18
        }
      ]
    },
    {
      "cell_type": "code",
      "metadata": {
        "id": "Lw_LT8hSd6MR",
        "colab": {
          "base_uri": "https://localhost:8080/"
        },
        "outputId": "c058c7fa-6e12-4b89-df69-0e404cf1fc2f"
      },
      "source": [
        "type(Num)"
      ],
      "execution_count": 19,
      "outputs": [
        {
          "output_type": "execute_result",
          "data": {
            "text/plain": [
              "int"
            ]
          },
          "metadata": {
            "tags": []
          },
          "execution_count": 19
        }
      ]
    },
    {
      "cell_type": "code",
      "metadata": {
        "id": "L54rCTEzd6MS",
        "colab": {
          "base_uri": "https://localhost:8080/"
        },
        "outputId": "ed7e103a-86b1-454a-ebeb-22989e71afe8"
      },
      "source": [
        "Num = [\"PremJain\", '801']\n",
        "Num"
      ],
      "execution_count": 24,
      "outputs": [
        {
          "output_type": "execute_result",
          "data": {
            "text/plain": [
              "['PremJain', '801']"
            ]
          },
          "metadata": {
            "tags": []
          },
          "execution_count": 24
        }
      ]
    },
    {
      "cell_type": "code",
      "metadata": {
        "id": "GMDsmiACd6MS",
        "colab": {
          "base_uri": "https://localhost:8080/"
        },
        "outputId": "7266042b-6aff-4590-a4b2-e5360e571d8b"
      },
      "source": [
        "type(Num)"
      ],
      "execution_count": 23,
      "outputs": [
        {
          "output_type": "execute_result",
          "data": {
            "text/plain": [
              "list"
            ]
          },
          "metadata": {
            "tags": []
          },
          "execution_count": 23
        }
      ]
    }
  ]
}