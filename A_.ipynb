{
  "nbformat": 4,
  "nbformat_minor": 0,
  "metadata": {
    "colab": {
      "provenance": [],
      "authorship_tag": "ABX9TyPdXt+Yvr9Y83ICR34pEvfr",
      "include_colab_link": true
    },
    "kernelspec": {
      "name": "python3",
      "display_name": "Python 3"
    },
    "language_info": {
      "name": "python"
    }
  },
  "cells": [
    {
      "cell_type": "markdown",
      "metadata": {
        "id": "view-in-github",
        "colab_type": "text"
      },
      "source": [
        "<a href=\"https://colab.research.google.com/github/Prem-Jain/Python/blob/main/A_.ipynb\" target=\"_parent\"><img src=\"https://colab.research.google.com/assets/colab-badge.svg\" alt=\"Open In Colab\"/></a>"
      ]
    },
    {
      "cell_type": "code",
      "execution_count": null,
      "metadata": {
        "id": "cO2XB7TEQCM0"
      },
      "outputs": [],
      "source": [
        "from collections import deque\n",
        "from collections import defaultdict\n",
        "\n",
        "class Graph:\n",
        "\n",
        "    def __init__(self):\n",
        "        self.adjacency_list = defaultdict(list)\n",
        "    def addEdge(self, u, v, c):\n",
        "        self.adjacency_list[u].append([v, int(c)])\n",
        "\n",
        "    def get_neighbors(self, v):\n",
        "        return self.adjacency_list[v]\n",
        "\n",
        "    def h(self, n):\n",
        "        H = defaultdict(lambda : 1)\n",
        "        return H[n]\n",
        "\n",
        "    def a_star_algorithm(self, start_node, stop_node):\n",
        "        open_list = set([start_node])\n",
        "        closed_list = set([])\n",
        "        g = {}\n",
        "        g[start_node] = 0\n",
        "        parents = {}\n",
        "        parents[start_node] = start_node\n",
        "        while len(open_list) > 0:\n",
        "            n = None\n",
        "            for v in open_list:\n",
        "                if n == None or g[v] + self.h(v) < g[n] + self.h(n):\n",
        "                    n = v;\n",
        "            if n == None:\n",
        "                print('Path does not exist!')\n",
        "                return None\n",
        "            if n == stop_node:\n",
        "                reconst_path = []\n",
        "                while parents[n] != n:\n",
        "                    reconst_path.append(n)\n",
        "                    n = parents[n]\n",
        "                reconst_path.append(start_node)\n",
        "                reconst_path.reverse()\n",
        "                print('Path found: {}'.format(reconst_path))\n",
        "                return reconst_path\n",
        "            for (m, weight) in self.get_neighbors(n):\n",
        "                if m not in open_list and m not in closed_list:\n",
        "                    open_list.add(m)\n",
        "                    parents[m] = n\n",
        "                    g[m] = g[n] + weight\n",
        "                else:\n",
        "                    if g[m] > g[n] + weight:\n",
        "                        g[m] = g[n] + weight\n",
        "                        parents[m] = n\n",
        "\n",
        "                        if m in closed_list:\n",
        "                            closed_list.remove(m)\n",
        "                            open_list.add(m)\n",
        "            open_list.remove(n)\n",
        "            closed_list.add(n)\n",
        "        print('Path does not exist!')\n",
        "        return None"
      ]
    },
    {
      "cell_type": "code",
      "source": [
        "graph1 = Graph()\n",
        "e = int(input(\"Enter no of edges : \"))\n",
        "print(\"Enter end vertices and cost of each edge : \")\n",
        "for _ in range(e):\n",
        "  u, v, c = [x for x in input().split()]\n",
        "  graph1.addEdge(u, v, c)\n",
        "start, dest = [x for x in input(\"Enter start and destination : \").split()]\n",
        "graph1.a_star_algorithm(start, dest)"
      ],
      "metadata": {
        "colab": {
          "base_uri": "https://localhost:8080/"
        },
        "id": "Bs27IiFpQjTE",
        "outputId": "c48c58e3-418d-45de-8db2-194b6b5ef94f"
      },
      "execution_count": null,
      "outputs": [
        {
          "output_type": "stream",
          "name": "stdout",
          "text": [
            "Enter no of edges : 5\n",
            "Enter end vertices and cost of each edge : \n",
            "A B 1\n",
            "A C 3\n",
            "A D 7\n",
            "B D 5\n",
            "C D 12\n",
            "Enter start and destination : A E\n",
            "Path does not exist!\n"
          ]
        }
      ]
    }
  ]
}