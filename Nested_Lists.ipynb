{
  "nbformat": 4,
  "nbformat_minor": 5,
  "metadata": {
    "kernelspec": {
      "display_name": "Python 3",
      "language": "python",
      "name": "python3"
    },
    "language_info": {
      "codemirror_mode": {
        "name": "ipython",
        "version": 3
      },
      "file_extension": ".py",
      "mimetype": "text/x-python",
      "name": "python",
      "nbconvert_exporter": "python",
      "pygments_lexer": "ipython3",
      "version": "3.8.11"
    },
    "colab": {
      "name": "Nested_Lists.ipynb",
      "provenance": [],
      "include_colab_link": true
    }
  },
  "cells": [
    {
      "cell_type": "markdown",
      "metadata": {
        "id": "view-in-github",
        "colab_type": "text"
      },
      "source": [
        "<a href=\"https://colab.research.google.com/github/Prem-Jain/Prem-Jain/blob/main/Nested_Lists.ipynb\" target=\"_parent\"><img src=\"https://colab.research.google.com/assets/colab-badge.svg\" alt=\"Open In Colab\"/></a>"
      ]
    },
    {
      "cell_type": "markdown",
      "metadata": {
        "id": "87762f06"
      },
      "source": [
        "# Nested_Lists"
      ],
      "id": "87762f06"
    },
    {
      "cell_type": "code",
      "metadata": {
        "id": "4330991d",
        "outputId": "1d805d7f-02dc-4d6a-e757-84b65f4e33d1"
      },
      "source": [
        "a = [1,2,3,4,5]\n",
        "a[1:6]"
      ],
      "id": "4330991d",
      "execution_count": null,
      "outputs": [
        {
          "output_type": "execute_result",
          "data": {
            "text/plain": [
              "[2, 3, 4, 5]"
            ]
          },
          "metadata": {
            "tags": []
          },
          "execution_count": 39
        }
      ]
    },
    {
      "cell_type": "code",
      "metadata": {
        "id": "73414635",
        "outputId": "d5250d96-7207-430f-ff48-dc0a0041d3de"
      },
      "source": [
        "a.insert(5,[6,7,8,9])\n",
        "print(a)"
      ],
      "id": "73414635",
      "execution_count": null,
      "outputs": [
        {
          "output_type": "stream",
          "text": [
            "[1, 2, 3, 4, 5, [6, 7, 8, 9]]\n"
          ],
          "name": "stdout"
        }
      ]
    },
    {
      "cell_type": "code",
      "metadata": {
        "id": "de0a4e45",
        "outputId": "4f166611-b271-4cd6-a8be-12736680b627"
      },
      "source": [
        "a.insert(6,{1 : 'PremJain', 2 : '801'})\n",
        "print(a)"
      ],
      "id": "de0a4e45",
      "execution_count": null,
      "outputs": [
        {
          "output_type": "stream",
          "text": [
            "[1, 2, 3, 4, 5, [6, 7, 8, 9], {1: 'PremJain', 2: '801'}]\n"
          ],
          "name": "stdout"
        }
      ]
    },
    {
      "cell_type": "code",
      "metadata": {
        "id": "ac939422",
        "outputId": "688a8bf3-3df4-4656-f90a-d918923f0499"
      },
      "source": [
        "a[5][2]"
      ],
      "id": "ac939422",
      "execution_count": null,
      "outputs": [
        {
          "output_type": "execute_result",
          "data": {
            "text/plain": [
              "8"
            ]
          },
          "metadata": {
            "tags": []
          },
          "execution_count": 42
        }
      ]
    },
    {
      "cell_type": "code",
      "metadata": {
        "id": "72b2060e",
        "outputId": "6502a802-6417-4410-e33d-dba59eb979f2"
      },
      "source": [
        "a[6][2]"
      ],
      "id": "72b2060e",
      "execution_count": null,
      "outputs": [
        {
          "output_type": "execute_result",
          "data": {
            "text/plain": [
              "'801'"
            ]
          },
          "metadata": {
            "tags": []
          },
          "execution_count": 43
        }
      ]
    },
    {
      "cell_type": "code",
      "metadata": {
        "scrolled": false,
        "id": "fe6dd4aa",
        "outputId": "67b4fecc-52dd-4b6f-8f1e-98dc23135b53"
      },
      "source": [
        "print (range(1,4))"
      ],
      "id": "fe6dd4aa",
      "execution_count": null,
      "outputs": [
        {
          "output_type": "stream",
          "text": [
            "range(1, 4)\n"
          ],
          "name": "stdout"
        }
      ]
    },
    {
      "cell_type": "code",
      "metadata": {
        "scrolled": false,
        "id": "07754ef6",
        "outputId": "58958fd4-8f57-4272-9ff7-fd7c1d862852"
      },
      "source": [
        "print(a[6].keys())"
      ],
      "id": "07754ef6",
      "execution_count": null,
      "outputs": [
        {
          "output_type": "stream",
          "text": [
            "dict_keys([1, 2])\n"
          ],
          "name": "stdout"
        }
      ]
    },
    {
      "cell_type": "code",
      "metadata": {
        "id": "2a5f6779",
        "outputId": "49bb67c3-bc4c-4366-b099-f02c4f844ee5"
      },
      "source": [
        "print(a[5])"
      ],
      "id": "2a5f6779",
      "execution_count": null,
      "outputs": [
        {
          "output_type": "stream",
          "text": [
            "[6, 7, 8, 9]\n"
          ],
          "name": "stdout"
        }
      ]
    },
    {
      "cell_type": "code",
      "metadata": {
        "id": "055e49e5",
        "outputId": "99091e0f-8064-4f95-b7ec-e99a8bf2d479"
      },
      "source": [
        "print(a[6].values())"
      ],
      "id": "055e49e5",
      "execution_count": null,
      "outputs": [
        {
          "output_type": "stream",
          "text": [
            "dict_values(['PremJain', '801'])\n"
          ],
          "name": "stdout"
        }
      ]
    },
    {
      "cell_type": "code",
      "metadata": {
        "id": "6065839a",
        "outputId": "a5815e10-d8bc-4f2e-a026-11f58f42f5da"
      },
      "source": [
        "a[5].insert(2,(10,11,12))\n",
        "print(a)"
      ],
      "id": "6065839a",
      "execution_count": null,
      "outputs": [
        {
          "output_type": "stream",
          "text": [
            "[1, 2, 3, 4, 5, [6, 7, (10, 11, 12), 8, 9], {1: 'PremJain', 2: '801'}]\n"
          ],
          "name": "stdout"
        }
      ]
    }
  ]
}