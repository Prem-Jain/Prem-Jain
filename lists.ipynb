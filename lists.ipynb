{
  "nbformat": 4,
  "nbformat_minor": 5,
  "metadata": {
    "kernelspec": {
      "display_name": "Python 3",
      "language": "python",
      "name": "python3"
    },
    "language_info": {
      "codemirror_mode": {
        "name": "ipython",
        "version": 3
      },
      "file_extension": ".py",
      "mimetype": "text/x-python",
      "name": "python",
      "nbconvert_exporter": "python",
      "pygments_lexer": "ipython3",
      "version": "3.8.8"
    },
    "colab": {
      "name": "lists.ipynb",
      "provenance": [],
      "include_colab_link": true
    }
  },
  "cells": [
    {
      "cell_type": "markdown",
      "metadata": {
        "id": "view-in-github",
        "colab_type": "text"
      },
      "source": [
        "<a href=\"https://colab.research.google.com/github/Prem-Jain/Prem-Jain/blob/main/lists.ipynb\" target=\"_parent\"><img src=\"https://colab.research.google.com/assets/colab-badge.svg\" alt=\"Open In Colab\"/></a>"
      ]
    },
    {
      "cell_type": "markdown",
      "metadata": {
        "id": "0d1df144"
      },
      "source": [
        "\n",
        "# Lists\n"
      ],
      "id": "0d1df144"
    },
    {
      "cell_type": "code",
      "metadata": {
        "colab": {
          "base_uri": "https://localhost:8080/"
        },
        "id": "6a838a95",
        "outputId": "2ba19526-15b1-4a99-90a8-c43bb6db380a"
      },
      "source": [
        "list = [1, \"Hello\", 10, \"World\", 20, 30]\n",
        "print(type(list))"
      ],
      "id": "6a838a95",
      "execution_count": null,
      "outputs": [
        {
          "output_type": "stream",
          "text": [
            "<class 'list'>\n"
          ],
          "name": "stdout"
        }
      ]
    },
    {
      "cell_type": "code",
      "metadata": {
        "colab": {
          "base_uri": "https://localhost:8080/"
        },
        "id": "04b99e24",
        "outputId": "3b1b0738-f8df-49f5-b77c-013cda3e6389"
      },
      "source": [
        "print(list)"
      ],
      "id": "04b99e24",
      "execution_count": null,
      "outputs": [
        {
          "output_type": "stream",
          "text": [
            "[1, 'Hello', 10, 'World', 20, 30]\n"
          ],
          "name": "stdout"
        }
      ]
    },
    {
      "cell_type": "code",
      "metadata": {
        "colab": {
          "base_uri": "https://localhost:8080/"
        },
        "id": "1d96404e",
        "outputId": "c2c4fc72-735a-4e42-d7ae-f50f4407c560"
      },
      "source": [
        "print(*list)"
      ],
      "id": "1d96404e",
      "execution_count": null,
      "outputs": [
        {
          "output_type": "stream",
          "text": [
            "1 Hello 10 World 20 30\n"
          ],
          "name": "stdout"
        }
      ]
    },
    {
      "cell_type": "code",
      "metadata": {
        "colab": {
          "base_uri": "https://localhost:8080/"
        },
        "id": "ffea2b80",
        "outputId": "8f427d89-f3fc-4fa9-8085-1c5bf891717e"
      },
      "source": [
        "print(list[ : : -1])"
      ],
      "id": "ffea2b80",
      "execution_count": null,
      "outputs": [
        {
          "output_type": "stream",
          "text": [
            "[30, 20, 'World', 10, 'Hello', 1]\n"
          ],
          "name": "stdout"
        }
      ]
    },
    {
      "cell_type": "code",
      "metadata": {
        "colab": {
          "base_uri": "https://localhost:8080/"
        },
        "id": "1d30a25c",
        "outputId": "8d6443b0-4b3e-4f59-dd55-f5321af2f4ee"
      },
      "source": [
        "print(list[ : 6: 3])"
      ],
      "id": "1d30a25c",
      "execution_count": null,
      "outputs": [
        {
          "output_type": "stream",
          "text": [
            "[1, 'World']\n"
          ],
          "name": "stdout"
        }
      ]
    },
    {
      "cell_type": "code",
      "metadata": {
        "colab": {
          "base_uri": "https://localhost:8080/"
        },
        "id": "c844dfc9",
        "outputId": "1b8092e5-62ba-4665-dcd5-66fe9a31c6e1"
      },
      "source": [
        "print(len(list))"
      ],
      "id": "c844dfc9",
      "execution_count": null,
      "outputs": [
        {
          "output_type": "stream",
          "text": [
            "6\n"
          ],
          "name": "stdout"
        }
      ]
    },
    {
      "cell_type": "code",
      "metadata": {
        "colab": {
          "base_uri": "https://localhost:8080/"
        },
        "id": "c7fbe00b",
        "outputId": "d06d0187-695b-49ee-d3b5-503d288fccf6"
      },
      "source": [
        "print(list[5])"
      ],
      "id": "c7fbe00b",
      "execution_count": null,
      "outputs": [
        {
          "output_type": "stream",
          "text": [
            "30\n"
          ],
          "name": "stdout"
        }
      ]
    },
    {
      "cell_type": "markdown",
      "metadata": {
        "id": "fb07d51f"
      },
      "source": [
        "# Append, insert"
      ],
      "id": "fb07d51f"
    },
    {
      "cell_type": "code",
      "metadata": {
        "id": "032f614d"
      },
      "source": [
        "list = [1, 2, 3]"
      ],
      "id": "032f614d",
      "execution_count": null,
      "outputs": []
    },
    {
      "cell_type": "code",
      "metadata": {
        "id": "a702bc87"
      },
      "source": [
        "list.append(\"hello\")"
      ],
      "id": "a702bc87",
      "execution_count": null,
      "outputs": []
    },
    {
      "cell_type": "code",
      "metadata": {
        "colab": {
          "base_uri": "https://localhost:8080/"
        },
        "id": "79d4df93",
        "outputId": "b90b129c-020e-46ad-a4f9-83eaf2594ac4"
      },
      "source": [
        "print(list)"
      ],
      "id": "79d4df93",
      "execution_count": null,
      "outputs": [
        {
          "output_type": "stream",
          "text": [
            "[1, 2, 3, 'hello']\n"
          ],
          "name": "stdout"
        }
      ]
    },
    {
      "cell_type": "code",
      "metadata": {
        "id": "94a071f8"
      },
      "source": [
        "list.insert(3,\"hai\")"
      ],
      "id": "94a071f8",
      "execution_count": null,
      "outputs": []
    },
    {
      "cell_type": "code",
      "metadata": {
        "colab": {
          "base_uri": "https://localhost:8080/"
        },
        "id": "f001affb",
        "outputId": "10f2c76f-dadb-4cab-b6b2-dd0bc47515e4"
      },
      "source": [
        "print(list)"
      ],
      "id": "f001affb",
      "execution_count": null,
      "outputs": [
        {
          "output_type": "stream",
          "text": [
            "[1, 2, 3, 'hai', 'hello']\n"
          ],
          "name": "stdout"
        }
      ]
    },
    {
      "cell_type": "code",
      "metadata": {
        "id": "0dd2e2b3"
      },
      "source": [
        "list.insert(10,23)"
      ],
      "id": "0dd2e2b3",
      "execution_count": null,
      "outputs": []
    },
    {
      "cell_type": "code",
      "metadata": {
        "colab": {
          "base_uri": "https://localhost:8080/"
        },
        "id": "2488a844",
        "outputId": "7dd8d7df-c97c-4743-b4f9-02550bec5852"
      },
      "source": [
        "print(list)"
      ],
      "id": "2488a844",
      "execution_count": null,
      "outputs": [
        {
          "output_type": "stream",
          "text": [
            "[1, 2, 3, 'hai', 'hello', 23]\n"
          ],
          "name": "stdout"
        }
      ]
    },
    {
      "cell_type": "code",
      "metadata": {
        "colab": {
          "base_uri": "https://localhost:8080/"
        },
        "id": "870f5cf6",
        "outputId": "14412094-ffbe-43f5-92e5-68191f3511c4"
      },
      "source": [
        "list=[]\n",
        "x=int(input(\"Enter size : \"))\n",
        "for i in range(0,x):\n",
        "    y=int(input())\n",
        "    list.append(y)\n",
        "print(list)    "
      ],
      "id": "870f5cf6",
      "execution_count": null,
      "outputs": [
        {
          "output_type": "stream",
          "text": [
            "Enter size : 0\n",
            "[]\n"
          ],
          "name": "stdout"
        }
      ]
    },
    {
      "cell_type": "markdown",
      "metadata": {
        "id": "4e323d82"
      },
      "source": [
        "# Delete and Remove"
      ],
      "id": "4e323d82"
    },
    {
      "cell_type": "code",
      "metadata": {
        "id": "a17cf0ce"
      },
      "source": [
        "list = [4, 5, 9, 5, 2, 3, 0]"
      ],
      "id": "a17cf0ce",
      "execution_count": null,
      "outputs": []
    },
    {
      "cell_type": "code",
      "metadata": {
        "colab": {
          "base_uri": "https://localhost:8080/"
        },
        "id": "37e27038",
        "outputId": "11a570db-fd0a-472b-e0b1-264aa75c07d8"
      },
      "source": [
        "del list[0]\n",
        "print(list)"
      ],
      "id": "37e27038",
      "execution_count": null,
      "outputs": [
        {
          "output_type": "stream",
          "text": [
            "[5, 9, 5, 2, 3, 0]\n"
          ],
          "name": "stdout"
        }
      ]
    },
    {
      "cell_type": "code",
      "metadata": {
        "colab": {
          "base_uri": "https://localhost:8080/"
        },
        "id": "33162c3c",
        "outputId": "a5cac203-12c9-4239-ead4-edfca0f73b9c"
      },
      "source": [
        "list.remove(5)\n",
        "print(list)"
      ],
      "id": "33162c3c",
      "execution_count": null,
      "outputs": [
        {
          "output_type": "stream",
          "text": [
            "[9, 5, 2, 3, 0]\n"
          ],
          "name": "stdout"
        }
      ]
    },
    {
      "cell_type": "code",
      "metadata": {
        "colab": {
          "base_uri": "https://localhost:8080/"
        },
        "id": "9f6e1d80",
        "outputId": "99b0eb6e-c6dd-42cd-cafa-893b20770c4a"
      },
      "source": [
        "del list[0 : 2]\n",
        "print(list)"
      ],
      "id": "9f6e1d80",
      "execution_count": null,
      "outputs": [
        {
          "output_type": "stream",
          "text": [
            "[2, 3, 0]\n"
          ],
          "name": "stdout"
        }
      ]
    },
    {
      "cell_type": "markdown",
      "metadata": {
        "id": "3f0ac895"
      },
      "source": [
        "\n",
        "# Pop"
      ],
      "id": "3f0ac895"
    },
    {
      "cell_type": "code",
      "metadata": {
        "id": "1b9a546d",
        "outputId": "d0df7654-4a8d-4d1b-8ce1-5748a94f83ab"
      },
      "source": [
        "l1 = [12, 45, 2, 5, 3, 2, 8]\n",
        "l1.pop()\n",
        "print(l1)"
      ],
      "id": "1b9a546d",
      "execution_count": null,
      "outputs": [
        {
          "output_type": "stream",
          "text": [
            "[12, 45, 2, 5, 3, 2]\n"
          ],
          "name": "stdout"
        }
      ]
    },
    {
      "cell_type": "markdown",
      "metadata": {
        "id": "5ec499d5"
      },
      "source": [
        "# Extend"
      ],
      "id": "5ec499d5"
    },
    {
      "cell_type": "code",
      "metadata": {
        "colab": {
          "base_uri": "https://localhost:8080/"
        },
        "id": "6dfe2dcb",
        "outputId": "d96e0471-4643-439e-b1f3-7f083f20fa7d"
      },
      "source": [
        "a = [1, 2, 3, 4]\n",
        "b = [6, 8, 7]\n",
        "a.extend(b)\n",
        "print(a)"
      ],
      "id": "6dfe2dcb",
      "execution_count": null,
      "outputs": [
        {
          "output_type": "stream",
          "text": [
            "[1, 2, 3, 4, 6, 8, 7]\n"
          ],
          "name": "stdout"
        }
      ]
    },
    {
      "cell_type": "markdown",
      "metadata": {
        "id": "dfb2f654"
      },
      "source": [
        "# Copy\n"
      ],
      "id": "dfb2f654"
    },
    {
      "cell_type": "code",
      "metadata": {
        "colab": {
          "base_uri": "https://localhost:8080/"
        },
        "id": "401458f4",
        "outputId": "6a3997ed-2cc2-4e46-aa64-15b131dc843c"
      },
      "source": [
        "l1 = [1, 2, 3, 4, 5, 6]\n",
        "l2 = l1\n",
        "l1.pop()\n",
        "print(l1)\n",
        "print(l2)"
      ],
      "id": "401458f4",
      "execution_count": null,
      "outputs": [
        {
          "output_type": "stream",
          "text": [
            "[1, 2, 3, 4, 5]\n",
            "[1, 2, 3, 4, 5]\n"
          ],
          "name": "stdout"
        }
      ]
    },
    {
      "cell_type": "code",
      "metadata": {
        "colab": {
          "base_uri": "https://localhost:8080/"
        },
        "id": "ce39e373",
        "outputId": "ae047b56-441e-43c1-8f3e-4e1dd99bb065"
      },
      "source": [
        "l1 = [801, 357, 2712, 300]\n",
        "l2 = l1.copy()\n",
        "l1.pop()\n",
        "print(l1)\n",
        "print(l2)"
      ],
      "id": "ce39e373",
      "execution_count": null,
      "outputs": [
        {
          "output_type": "stream",
          "text": [
            "[801, 357, 2712]\n",
            "[801, 357, 2712, 300]\n"
          ],
          "name": "stdout"
        }
      ]
    },
    {
      "cell_type": "markdown",
      "metadata": {
        "id": "32de2eef"
      },
      "source": [
        "# Sort and Reverse"
      ],
      "id": "32de2eef"
    },
    {
      "cell_type": "code",
      "metadata": {
        "colab": {
          "base_uri": "https://localhost:8080/"
        },
        "id": "0c44450e",
        "outputId": "485efdde-b1e6-400b-af0e-67c54fd451c7"
      },
      "source": [
        "list = [2, 3, 4, 5, 1, 3, 4, 75]\n",
        "list.sort()\n",
        "print(list)"
      ],
      "id": "0c44450e",
      "execution_count": null,
      "outputs": [
        {
          "output_type": "stream",
          "text": [
            "[1, 2, 3, 3, 4, 4, 5, 75]\n"
          ],
          "name": "stdout"
        }
      ]
    },
    {
      "cell_type": "code",
      "metadata": {
        "colab": {
          "base_uri": "https://localhost:8080/"
        },
        "id": "c7470b3c",
        "outputId": "877935b6-6a71-4db2-e691-7b54bb8781d4"
      },
      "source": [
        "list.sort(reverse=True)\n",
        "print(list)"
      ],
      "id": "c7470b3c",
      "execution_count": null,
      "outputs": [
        {
          "output_type": "stream",
          "text": [
            "[75, 5, 4, 4, 3, 3, 2, 1]\n"
          ],
          "name": "stdout"
        }
      ]
    },
    {
      "cell_type": "code",
      "metadata": {
        "colab": {
          "base_uri": "https://localhost:8080/"
        },
        "id": "21de19f7",
        "outputId": "c74636dc-d2a8-414b-ee0d-f13b0484d87e"
      },
      "source": [
        "list = [1, 5, 3, 2, 4, 8, 6, 4]\n",
        "l.reverse()\n",
        "print(l)\n"
      ],
      "id": "21de19f7",
      "execution_count": null,
      "outputs": [
        {
          "output_type": "stream",
          "text": [
            "[1, 5, 3, 2, 4, 8, 6, 4]\n"
          ],
          "name": "stdout"
        }
      ]
    },
    {
      "cell_type": "markdown",
      "metadata": {
        "id": "edd22d0f"
      },
      "source": [
        "# Tuples"
      ],
      "id": "edd22d0f"
    },
    {
      "cell_type": "code",
      "metadata": {
        "colab": {
          "base_uri": "https://localhost:8080/"
        },
        "id": "c08e3e2a",
        "outputId": "c82e156d-9a47-470e-9eca-cbc460320972"
      },
      "source": [
        "tuple = (1, 1, 5, 8, 3, 3, 3, 6, 1)\n",
        "print(t)"
      ],
      "id": "c08e3e2a",
      "execution_count": null,
      "outputs": [
        {
          "output_type": "stream",
          "text": [
            "(1, 1, 5, 8, 3, 3, 3, 6, 1)\n"
          ],
          "name": "stdout"
        }
      ]
    },
    {
      "cell_type": "code",
      "metadata": {
        "colab": {
          "base_uri": "https://localhost:8080/",
          "height": 162
        },
        "id": "f8299e81",
        "outputId": "4e89d268-547e-4a1e-9b91-ca7b06eeb89c"
      },
      "source": [
        "tupple[8] = 9"
      ],
      "id": "f8299e81",
      "execution_count": null,
      "outputs": [
        {
          "output_type": "error",
          "ename": "NameError",
          "evalue": "ignored",
          "traceback": [
            "\u001b[0;31m---------------------------------------------------------------------------\u001b[0m",
            "\u001b[0;31mNameError\u001b[0m                                 Traceback (most recent call last)",
            "\u001b[0;32m<ipython-input-114-1138d926e9bc>\u001b[0m in \u001b[0;36m<module>\u001b[0;34m()\u001b[0m\n\u001b[0;32m----> 1\u001b[0;31m \u001b[0mtupple\u001b[0m\u001b[0;34m[\u001b[0m\u001b[0;36m8\u001b[0m\u001b[0;34m]\u001b[0m \u001b[0;34m=\u001b[0m \u001b[0;36m9\u001b[0m\u001b[0;34m\u001b[0m\u001b[0;34m\u001b[0m\u001b[0m\n\u001b[0m",
            "\u001b[0;31mNameError\u001b[0m: name 'tupple' is not defined"
          ]
        }
      ]
    },
    {
      "cell_type": "markdown",
      "metadata": {
        "id": "e16085a3"
      },
      "source": [
        "# Sets"
      ],
      "id": "e16085a3"
    },
    {
      "cell_type": "code",
      "metadata": {
        "id": "d5290284",
        "outputId": "2bdffd80-032c-4777-e83e-bf0a64097028"
      },
      "source": [
        "set = {1, 1, 1, 1, 2, 2, 2, 2, 5, 3, 9, 6, 8}\n",
        "print(s)"
      ],
      "id": "d5290284",
      "execution_count": null,
      "outputs": [
        {
          "output_type": "stream",
          "text": [
            "{1, 2, 3, 5, 6, 8, 9}\n"
          ],
          "name": "stdout"
        }
      ]
    },
    {
      "cell_type": "code",
      "metadata": {
        "id": "498bb4d8"
      },
      "source": [
        "set.remove(1)"
      ],
      "id": "498bb4d8",
      "execution_count": null,
      "outputs": []
    },
    {
      "cell_type": "code",
      "metadata": {
        "id": "a866fe69",
        "outputId": "05f2b2d9-c131-4473-ffd8-5c2f164cf529"
      },
      "source": [
        "print(set)"
      ],
      "id": "a866fe69",
      "execution_count": null,
      "outputs": [
        {
          "output_type": "stream",
          "text": [
            "{2, 3, 5, 6, 8, 9}\n"
          ],
          "name": "stdout"
        }
      ]
    },
    {
      "cell_type": "code",
      "metadata": {
        "id": "0398c521",
        "outputId": "7168bcc1-abc0-43c6-d6a9-3626d28f0bb1"
      },
      "source": [
        "s2={1,5,3,9}\n",
        "set.update(s2)\n",
        "print(set)"
      ],
      "id": "0398c521",
      "execution_count": null,
      "outputs": [
        {
          "output_type": "stream",
          "text": [
            "{1, 2, 3, 5, 6, 8, 9}\n"
          ],
          "name": "stdout"
        }
      ]
    },
    {
      "cell_type": "code",
      "metadata": {
        "id": "a445337a",
        "outputId": "03dda481-99c7-4672-a254-97e936d89f4c"
      },
      "source": [
        "l=list(set)\n",
        "print(l)"
      ],
      "id": "a445337a",
      "execution_count": null,
      "outputs": [
        {
          "output_type": "stream",
          "text": [
            "[1, 2, 3, 5, 6, 8, 9]\n"
          ],
          "name": "stdout"
        }
      ]
    },
    {
      "cell_type": "markdown",
      "metadata": {
        "id": "47879664"
      },
      "source": [
        "# Dictionaries\n"
      ],
      "id": "47879664"
    },
    {
      "cell_type": "code",
      "metadata": {
        "id": "feae0e16"
      },
      "source": [
        "dic = {1: 'a', 2: 'b'}"
      ],
      "id": "feae0e16",
      "execution_count": 1,
      "outputs": []
    },
    {
      "cell_type": "code",
      "metadata": {
        "colab": {
          "base_uri": "https://localhost:8080/"
        },
        "id": "16038bfa",
        "outputId": "37556a34-fbc9-48fc-efe3-7736893e766d"
      },
      "source": [
        "print(type(dic))"
      ],
      "id": "16038bfa",
      "execution_count": 2,
      "outputs": [
        {
          "output_type": "stream",
          "text": [
            "<class 'dict'>\n"
          ],
          "name": "stdout"
        }
      ]
    },
    {
      "cell_type": "code",
      "metadata": {
        "colab": {
          "base_uri": "https://localhost:8080/"
        },
        "id": "e74cc6a2",
        "outputId": "09e97a23-f837-427a-ada7-4ea4d039d307"
      },
      "source": [
        "print(dic)"
      ],
      "id": "e74cc6a2",
      "execution_count": 3,
      "outputs": [
        {
          "output_type": "stream",
          "text": [
            "{1: 'a', 2: 'b'}\n"
          ],
          "name": "stdout"
        }
      ]
    },
    {
      "cell_type": "code",
      "metadata": {
        "colab": {
          "base_uri": "https://localhost:8080/"
        },
        "id": "a1c645f1",
        "outputId": "3393fed5-c9ba-49ac-d510-8caea8cd42e4"
      },
      "source": [
        "dic = {'hi': 1, 'hello' : [2,3]}\n",
        "dic['namaste']=4\n",
        "print(dic)\n",
        "del dic['hi']\n",
        "print(dic)"
      ],
      "id": "a1c645f1",
      "execution_count": 4,
      "outputs": [
        {
          "output_type": "stream",
          "text": [
            "{'hi': 1, 'hello': [2, 3], 'namaste': 4}\n",
            "{'hello': [2, 3], 'namaste': 4}\n"
          ],
          "name": "stdout"
        }
      ]
    },
    {
      "cell_type": "code",
      "metadata": {
        "colab": {
          "base_uri": "https://localhost:8080/"
        },
        "id": "9d94636e",
        "outputId": "c5294523-2da7-4583-e4a4-7a0bb16fd145"
      },
      "source": [
        "D = dict([(1,'hai'),(2,\"Buddies\"),(3,\"Folks\")])\n",
        "print(D)"
      ],
      "id": "9d94636e",
      "execution_count": 5,
      "outputs": [
        {
          "output_type": "stream",
          "text": [
            "{1: 'hai', 2: 'Buddies', 3: 'Folks'}\n"
          ],
          "name": "stdout"
        }
      ]
    },
    {
      "cell_type": "code",
      "metadata": {
        "id": "772b0df4",
        "colab": {
          "base_uri": "https://localhost:8080/"
        },
        "outputId": "afbf9c1d-85e5-4f9d-84ba-d57874456d1b"
      },
      "source": [
        "print(D.keys())"
      ],
      "id": "772b0df4",
      "execution_count": 6,
      "outputs": [
        {
          "output_type": "stream",
          "text": [
            "dict_keys([1, 2, 3])\n"
          ],
          "name": "stdout"
        }
      ]
    },
    {
      "cell_type": "code",
      "metadata": {
        "id": "88411414",
        "colab": {
          "base_uri": "https://localhost:8080/"
        },
        "outputId": "44308c4c-cbc1-4804-c257-da31091c4cbd"
      },
      "source": [
        "for key in D:\n",
        "    print (key)"
      ],
      "id": "88411414",
      "execution_count": 7,
      "outputs": [
        {
          "output_type": "stream",
          "text": [
            "1\n",
            "2\n",
            "3\n"
          ],
          "name": "stdout"
        }
      ]
    },
    {
      "cell_type": "code",
      "metadata": {
        "id": "c69ba7c6",
        "colab": {
          "base_uri": "https://localhost:8080/"
        },
        "outputId": "b7c176e7-5254-4cc9-e81c-74d93cc18dcc"
      },
      "source": [
        "print(D.values())"
      ],
      "id": "c69ba7c6",
      "execution_count": 8,
      "outputs": [
        {
          "output_type": "stream",
          "text": [
            "dict_values(['hai', 'Buddies', 'Folks'])\n"
          ],
          "name": "stdout"
        }
      ]
    },
    {
      "cell_type": "code",
      "metadata": {
        "id": "71554efc",
        "colab": {
          "base_uri": "https://localhost:8080/"
        },
        "outputId": "b0797bc0-58ae-4798-9197-0779ec5e7f5a"
      },
      "source": [
        "for i in D.values():\n",
        "    print(i)"
      ],
      "id": "71554efc",
      "execution_count": 9,
      "outputs": [
        {
          "output_type": "stream",
          "text": [
            "hai\n",
            "Buddies\n",
            "Folks\n"
          ],
          "name": "stdout"
        }
      ]
    },
    {
      "cell_type": "code",
      "metadata": {
        "id": "901229d4",
        "colab": {
          "base_uri": "https://localhost:8080/"
        },
        "outputId": "4676c7eb-cfef-49b8-cce8-8b1d31550c1a"
      },
      "source": [
        "for i,j in D.items():\n",
        "    print(i,j)"
      ],
      "id": "901229d4",
      "execution_count": 10,
      "outputs": [
        {
          "output_type": "stream",
          "text": [
            "1 hai\n",
            "2 Buddies\n",
            "3 Folks\n"
          ],
          "name": "stdout"
        }
      ]
    },
    {
      "cell_type": "code",
      "metadata": {
        "id": "4ce97ea2"
      },
      "source": [
        ""
      ],
      "id": "4ce97ea2",
      "execution_count": 10,
      "outputs": []
    }
  ]
}