{
  "nbformat": 4,
  "nbformat_minor": 0,
  "metadata": {
    "colab": {
      "provenance": [],
      "authorship_tag": "ABX9TyNZjv1SmI/05MoouogBO6/n",
      "include_colab_link": true
    },
    "kernelspec": {
      "name": "python3",
      "display_name": "Python 3"
    },
    "language_info": {
      "name": "python"
    }
  },
  "cells": [
    {
      "cell_type": "markdown",
      "metadata": {
        "id": "view-in-github",
        "colab_type": "text"
      },
      "source": [
        "<a href=\"https://colab.research.google.com/github/Prem-Jain/Python/blob/main/FamilyTree.ipynb\" target=\"_parent\"><img src=\"https://colab.research.google.com/assets/colab-badge.svg\" alt=\"Open In Colab\"/></a>"
      ]
    },
    {
      "cell_type": "code",
      "execution_count": null,
      "metadata": {
        "colab": {
          "base_uri": "https://localhost:8080/"
        },
        "id": "hlV3fFVNP_wk",
        "outputId": "e9f4c703-6fdb-48cd-cd83-8db581e0bc87"
      },
      "outputs": [
        {
          "output_type": "stream",
          "name": "stdout",
          "text": [
            "Order of Inheritance after Paul's Death: ['Zach', 'Jesse', 'Ursula', 'Ryan', 'Thea']\n",
            "Order of Inheritance after Zach's Death: ['Jesse', 'Ursula', 'Ryan', 'Thea']\n"
          ]
        }
      ],
      "source": [
        "from collections import defaultdict\n",
        "class Solution:\n",
        "\n",
        "   def __init__(self, head_name):\n",
        "      self.family = defaultdict(list)\n",
        "      self.head = head_name\n",
        "      self.dead = set()\n",
        "\n",
        "   def birth(self, p_name, c_name):\n",
        "      self.family[p_name].append(c_name)\n",
        "\n",
        "   def death(self, name):\n",
        "      self.dead.add(name)\n",
        "\n",
        "   def inheritance(self):\n",
        "      self.ans = []\n",
        "      self.depth_search(self.head)\n",
        "      return self.ans\n",
        "\n",
        "   def depth_search(self, current):\n",
        "      if current not in self.dead:\n",
        "         self.ans.append(current)\n",
        "      for child in self.family[current]:\n",
        "         self.depth_search(child)\n",
        "\n",
        "ob = Solution('Paul')\n",
        "ob.birth('Paul', 'Zach')\n",
        "ob.birth('Paul', 'Jesse')\n",
        "ob.birth('Jesse', 'Ursula')\n",
        "ob.birth('Jesse', 'Ryan')\n",
        "ob.birth('Jesse', 'Thea')\n",
        "ob.death('Paul')\n",
        "print(\"Order of Inheritance after Paul's Death:\", ob.inheritance())\n",
        "ob.death('Zach')\n",
        "print(\"Order of Inheritance after Zach's Death:\", ob.inheritance())"
      ]
    }
  ]
}