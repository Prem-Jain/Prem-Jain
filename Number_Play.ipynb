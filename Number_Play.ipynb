{
  "nbformat": 4,
  "nbformat_minor": 5,
  "metadata": {
    "kernelspec": {
      "display_name": "Python 3",
      "language": "python",
      "name": "python3"
    },
    "colab": {
      "name": "Number Play.ipynb",
      "provenance": [],
      "include_colab_link": true
    }
  },
  "cells": [
    {
      "cell_type": "markdown",
      "metadata": {
        "id": "view-in-github",
        "colab_type": "text"
      },
      "source": [
        "<a href=\"https://colab.research.google.com/github/Prem-Jain/Python/blob/main/Number_Play.ipynb\" target=\"_parent\"><img src=\"https://colab.research.google.com/assets/colab-badge.svg\" alt=\"Open In Colab\"/></a>"
      ]
    },
    {
      "cell_type": "markdown",
      "metadata": {
        "id": "89b9ccc6"
      },
      "source": [
        "# Positive or Negative"
      ],
      "id": "89b9ccc6"
    },
    {
      "cell_type": "code",
      "metadata": {
        "id": "a37676c7"
      },
      "source": [
        "def pos_neg():\n",
        "    num = int(input(\"Enter a number : \"))\n",
        "    if num > 0:\n",
        "        print(\"{} is a positive integer\".format(num))\n",
        "    elif num == 0:\n",
        "        print(\"Given number is \",num)\n",
        "    else:\n",
        "        print(\"{} is a negative integer\".format(num))"
      ],
      "id": "a37676c7",
      "execution_count": null,
      "outputs": []
    },
    {
      "cell_type": "markdown",
      "metadata": {
        "id": "d29aa334"
      },
      "source": [
        "# Even or Odd"
      ],
      "id": "d29aa334"
    },
    {
      "cell_type": "code",
      "metadata": {
        "id": "10efe51e"
      },
      "source": [
        "def even_odd():\n",
        "    num = int(input(\"Enter a number : \"))\n",
        "    if num%2 == 0 :\n",
        "        print(\"Given number {} is even number\".format(num))\n",
        "    else :\n",
        "        print(\"Given number {} is odd number\".format(num))"
      ],
      "id": "10efe51e",
      "execution_count": null,
      "outputs": []
    },
    {
      "cell_type": "markdown",
      "metadata": {
        "id": "32c10f2d"
      },
      "source": [
        "# Largest number "
      ],
      "id": "32c10f2d"
    },
    {
      "cell_type": "code",
      "metadata": {
        "id": "17b8e562"
      },
      "source": [
        "def max_num():\n",
        "    num_list = []\n",
        "    x = int(input(\"How many numbers you want to enter : \"))\n",
        "    print(\"Enter \",x,\" numbers : \")\n",
        "    for i in range(x):\n",
        "        num_list.append(int(input()))\n",
        "    num_list.sort(reverse = True)\n",
        "    print(\"Max value = {}\".format(num_list[0]))"
      ],
      "id": "17b8e562",
      "execution_count": null,
      "outputs": []
    },
    {
      "cell_type": "markdown",
      "metadata": {
        "id": "7a471066"
      },
      "source": [
        "# Main function"
      ],
      "id": "7a471066"
    },
    {
      "cell_type": "code",
      "metadata": {
        "id": "958e3f7f",
        "outputId": "46baf38a-5eaf-4406-ebb6-0c6ce6c77d97"
      },
      "source": [
        "print(\"Welcome to number play\")\n",
        "print(\"\"\"\n",
        "1.To check whether number is Positive or Negative\n",
        "2.To check whether number is even or Odd\n",
        "3.To find Largest number of given numbers\n",
        "\"\"\")\n",
        "i = int(input(\"Enter your option : \"))\n",
        "while(True):\n",
        "    if i == 1:\n",
        "        pos_neg()\n",
        "    elif i == 2:\n",
        "        even_odd()\n",
        "    elif i == 3:\n",
        "        max_num()\n",
        "    elif i == 4:\n",
        "        print(\"Ending number play.\")\n",
        "        break\n",
        "    i = int(input(\"Enter your option : \"))"
      ],
      "id": "958e3f7f",
      "execution_count": null,
      "outputs": [
        {
          "output_type": "stream",
          "text": [
            "Welcome to number play\n",
            "\n",
            "1.To check whether number is Positive or Negative\n",
            "2.To check whether number is even or Odd\n",
            "3.To find Largest number of given numbers\n",
            "\n",
            "Enter your option : 1\n",
            "Enter a number : -5\n",
            "-5 is a negative integer\n",
            "Enter your option : 2\n",
            "Enter a number : 801\n",
            "Given number 801 is odd number\n",
            "Enter your option : 3\n",
            "How many numbers you want to enter : 3\n",
            "Enter  3  numbers : \n",
            "1\n",
            "2\n",
            "3\n",
            "Max value = 3\n",
            "Enter your option : 4\n",
            "Ending number play.\n"
          ],
          "name": "stdout"
        }
      ]
    }
  ]
}