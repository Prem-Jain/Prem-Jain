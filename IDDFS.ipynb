{
  "nbformat": 4,
  "nbformat_minor": 0,
  "metadata": {
    "colab": {
      "provenance": [],
      "authorship_tag": "ABX9TyNTYQyvJaYdjxr3YoJSSvod",
      "include_colab_link": true
    },
    "kernelspec": {
      "name": "python3",
      "display_name": "Python 3"
    },
    "language_info": {
      "name": "python"
    }
  },
  "cells": [
    {
      "cell_type": "markdown",
      "metadata": {
        "id": "view-in-github",
        "colab_type": "text"
      },
      "source": [
        "<a href=\"https://colab.research.google.com/github/Prem-Jain/Python/blob/main/IDDFS.ipynb\" target=\"_parent\"><img src=\"https://colab.research.google.com/assets/colab-badge.svg\" alt=\"Open In Colab\"/></a>"
      ]
    },
    {
      "cell_type": "code",
      "execution_count": null,
      "metadata": {
        "colab": {
          "base_uri": "https://localhost:8080/"
        },
        "id": "_jAhBFFjLOf2",
        "outputId": "5387e06b-9bb5-4554-9e0c-1c628f79e6ca"
      },
      "outputs": [
        {
          "output_type": "stream",
          "name": "stdout",
          "text": [
            "Enter no of vertices : 7\n",
            "Enter no of edges : 6\n",
            "Enter end vertices of edge : \n",
            "0 1\n",
            "0 2\n",
            "1 3\n",
            "1 4\n",
            "2 5\n",
            "2 6\n",
            "Enter source vertex, target and maxDepth : 1 6 1\n",
            "Target is NOT reachable from source within max depth\n"
          ]
        }
      ],
      "source": [
        "from collections import defaultdict\n",
        "\n",
        "class Graph:\n",
        "\tdef __init__(self,vertices):\n",
        "\t\tself.V = vertices\n",
        "\t\tself.graph = defaultdict(list)\n",
        "\tdef addEdge(self,u,v):\n",
        "\t\tself.graph[u].append(v)\n",
        "\n",
        "\tdef DLS(self,src,target,maxDepth):\n",
        "\t\tif src == target : return True\n",
        "\t\tif maxDepth <= 0 : return False\n",
        "\t\tfor i in self.graph[src]:\n",
        "\t\t\t\tif(self.DLS(i,target,maxDepth-1)):\n",
        "\t\t\t\t\treturn True\n",
        "\t\treturn False\n",
        "\tdef IDDFS(self,src, target, maxDepth):\n",
        "\t\tfor i in range(maxDepth):\n",
        "\t\t\tif (self.DLS(src, target, i)):\n",
        "\t\t\t\treturn True\n",
        "\t\treturn False\n",
        "\n",
        "v = int(input(\"Enter no of vertices : \"))\n",
        "g = Graph (v);\n",
        "e = int(input(\"Enter no of edges : \"))\n",
        "print(\"Enter end vertices of edge : \")\n",
        "for i in range(e):\n",
        "  v1, v2 = [int(x) for x in input().split()]\n",
        "  g.addEdge(v1, v2)\n",
        "\n",
        "src, target, maxDepth = [int(x) for x in input(\"Enter source vertex, target and maxDepth : \").split()]\n",
        "\n",
        "if g.IDDFS(src, target, maxDepth) == True:\n",
        "\tprint (\"Target is reachable from source \" +\n",
        "\t\t\"within max depth\")\n",
        "else :\n",
        "\tprint (\"Target is NOT reachable from source \" +\n",
        "\t\t\"within max depth\")"
      ]
    }
  ]
}