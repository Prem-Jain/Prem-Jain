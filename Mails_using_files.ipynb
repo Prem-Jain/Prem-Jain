{
  "nbformat": 4,
  "nbformat_minor": 5,
  "metadata": {
    "kernelspec": {
      "display_name": "Python 3",
      "language": "python",
      "name": "python3"
    },
    "language_info": {
      "codemirror_mode": {
        "name": "ipython",
        "version": 3
      },
      "file_extension": ".py",
      "mimetype": "text/x-python",
      "name": "python",
      "nbconvert_exporter": "python",
      "pygments_lexer": "ipython3",
      "version": "3.8.11"
    },
    "colab": {
      "name": "Mails using files.ipynb",
      "provenance": [],
      "include_colab_link": true
    }
  },
  "cells": [
    {
      "cell_type": "markdown",
      "metadata": {
        "id": "view-in-github",
        "colab_type": "text"
      },
      "source": [
        "<a href=\"https://colab.research.google.com/github/Prem-Jain/Python/blob/main/Mails_using_files.ipynb\" target=\"_parent\"><img src=\"https://colab.research.google.com/assets/colab-badge.svg\" alt=\"Open In Colab\"/></a>"
      ]
    },
    {
      "cell_type": "code",
      "metadata": {
        "id": "c974be2e"
      },
      "source": [
        "fmail = open('E:\\Divine\\Mail.txt', r)"
      ],
      "id": "c974be2e",
      "execution_count": null,
      "outputs": []
    },
    {
      "cell_type": "code",
      "metadata": {
        "id": "59e7b3ae",
        "outputId": "73fde649-f9bf-4dca-e6d3-81e99bfed856"
      },
      "source": [
        "mails = fmail.read()\n",
        "print(mails)"
      ],
      "id": "59e7b3ae",
      "execution_count": null,
      "outputs": [
        {
          "name": "stdout",
          "output_type": "stream",
          "text": [
            "turboslayer@gmail.com\n",
            "someone@outlook.com\n",
            "crashtv@gov.in\n",
            "blue_defender@gmail.com\n",
            "logan@yahoo.com\n",
            "ironmerc@gov.in\n",
            "steeltitan@outlook.com\n",
            "stealthedefender@yahoo.com\n",
            "blaze_assault@gov.in\n",
            "venom_fate@yahoo.com\n",
            "dark_side@yahoo.com\n",
            "fataldestiny@yahoo.com\n",
            "ultimatebeast@outlook.com\n",
            "masked_titan@gmail.com\n",
            "frozen_gunner@yahoo.com\n",
            "username_copied@gov.in\n",
            "whos_ur_buddy@outlook.com\n",
            "unfinished_sentenc@gov.in\n",
            "all_gone@gov.in\n",
            "something@gmail.com\n",
            "president@gmail.com\n",
            "tinfoilhat@gmail.com\n",
            "anonymouse@yahoo.com\n",
            "definitely_not_an_athlete@outlook.com\n",
            "dropout@gov.in\n",
            "paw_friend@outlook.com\n",
            "test_name_please_ignore@gov.in\n",
            "heyyou@gov.in\n",
            "a_distraction@yahoo.com\n",
            "thegodfatherpart4@gov.in\n",
            "unfriendme@outlook.com\n",
            "doodles@gmail.com\n",
            "fluffycookie@yahoo.com\n",
            "theintolerant@gmail.com\n",
            "fourhour@yahoo.com\n",
            "toastedwithcheese@gmail.com\n",
            "futureking@yahoo.com\n",
            "coolshirtbruh@outlook.com\n",
            "kentucky@yahoo.com\n",
            "chocolate@gmail.com\n",
            "saintbroseph@yahoo.com\n",
            "just_chillin@gmail.com\n",
            "ghostface@gov.in\n",
            "bigfootisreal@yahoo.com\n",
            "newbie@yahoo.com\n",
            "alienware@outlook.com\n",
            "chrishemsworth@outlook.com\n",
            "nachocheesefries@outlook.com\n",
            "reginageorge@gov.in\n",
            "harmless_potato@outlook.com\n",
            "frostedcupcake@outlook.com\n",
            "avocadorable@outlook.com\n",
            "pixie_dust@gmail.com\n",
            "chopsuey@yahoo.com\n",
            "iron_man@gov.in\n",
            "lemon_ade@outlook.com\n",
            "cerial_killer@outlook.com\n",
            "light_year@gov.in\n",
            "phoenix@outlook.com\n",
            "harry_potter@outlook.com\n"
          ]
        }
      ]
    },
    {
      "cell_type": "code",
      "metadata": {
        "id": "2178dfc4"
      },
      "source": [
        "list_of_mails = mails.split()"
      ],
      "id": "2178dfc4",
      "execution_count": null,
      "outputs": []
    },
    {
      "cell_type": "code",
      "metadata": {
        "id": "75332eb1"
      },
      "source": [
        "#gmail = \"gmail.com\", outlook = \"outlook.com\", gov = \"gov.com\", yahoo = \"yahoo.com\"\n",
        "G_count = O_count = g_count = Y_count = 0\n",
        "for mail in list_of_mails : \n",
        "    if 'gmail' in mail:\n",
        "        G_count += 1\n",
        "    if \"yahoo\" in mail:\n",
        "        Y_count += 1    \n",
        "    if \"gov\" in mail:\n",
        "        g_count += 1\n",
        "    if \"outlook\" in mail:\n",
        "        O_count += 1\n",
        "domains = dict()\n",
        "domains[\"gmail\"] = G_count\n",
        "domains[\"yahoo\"] = Y_count\n",
        "domains[\"gov\"] = g_count\n",
        "domains[\"outlook\"] = O_count"
      ],
      "id": "75332eb1",
      "execution_count": null,
      "outputs": []
    },
    {
      "cell_type": "code",
      "metadata": {
        "id": "e23ad236",
        "outputId": "6935a7b4-81dc-4c03-dff9-b14f6737689d"
      },
      "source": [
        "domain = input(\"Enter domain : \")\n",
        "if domain == \"gmail\" :\n",
        "    print(\"@gmail.com = \",domains[\"gmail\"])\n",
        "if domain == \"yahoo\" :\n",
        "    print(\"@yahoo.com = \",domains[\"yahoo\"])\n",
        "if domain == \"gov\" :\n",
        "    print(\"@gov.in\",domains[\"gov\"])\n",
        "if domain == \"outlook\" :\n",
        "    print(\"@outlook.com\",domains[\"outlook\"])"
      ],
      "id": "e23ad236",
      "execution_count": null,
      "outputs": [
        {
          "name": "stdout",
          "output_type": "stream",
          "text": [
            "Enter domain : gov\n",
            "@gov.in 14\n"
          ]
        }
      ]
    },
    {
      "cell_type": "code",
      "metadata": {
        "id": "ebca0156"
      },
      "source": [
        ""
      ],
      "id": "ebca0156",
      "execution_count": null,
      "outputs": []
    }
  ]
}