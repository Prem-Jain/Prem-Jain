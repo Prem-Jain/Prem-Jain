{
  "nbformat": 4,
  "nbformat_minor": 0,
  "metadata": {
    "colab": {
      "provenance": [],
      "authorship_tag": "ABX9TyOHhm5O8wI8njhFA1kiW9gF",
      "include_colab_link": true
    },
    "kernelspec": {
      "name": "python3",
      "display_name": "Python 3"
    },
    "language_info": {
      "name": "python"
    }
  },
  "cells": [
    {
      "cell_type": "markdown",
      "metadata": {
        "id": "view-in-github",
        "colab_type": "text"
      },
      "source": [
        "<a href=\"https://colab.research.google.com/github/Prem-Jain/Python/blob/main/WaterJugProbelm.ipynb\" target=\"_parent\"><img src=\"https://colab.research.google.com/assets/colab-badge.svg\" alt=\"Open In Colab\"/></a>"
      ]
    },
    {
      "cell_type": "code",
      "execution_count": null,
      "metadata": {
        "colab": {
          "base_uri": "https://localhost:8080/"
        },
        "id": "PvSWn0V9TFGY",
        "outputId": "25f2bd95-442f-46f8-9d31-e0f499d29885"
      },
      "outputs": [
        {
          "output_type": "stream",
          "name": "stdout",
          "text": [
            "Enter quantity of jug1, jug2 and aim : 3 4 2\n",
            "Steps: \n",
            "0 0\n",
            "3 0\n",
            "3 4\n",
            "0 4\n",
            "3 1\n",
            "0 1\n",
            "1 0\n",
            "1 4\n",
            "3 2\n",
            "0 2\n"
          ]
        },
        {
          "output_type": "execute_result",
          "data": {
            "text/plain": [
              "True"
            ]
          },
          "metadata": {},
          "execution_count": 1
        }
      ],
      "source": [
        "from collections import defaultdict \n",
        "jug1, jug2, aim = [int(x) for x in input(\"Enter quantity of jug1, jug2 and aim : \").split()]\n",
        "visited = defaultdict(lambda: False)\n",
        "def waterJugSolver(amt1, amt2): \n",
        "    if (amt1 == aim and amt2 == 0) or (amt2 == aim and amt1 == 0):\n",
        "        print(amt1, amt2)\n",
        "        return True\n",
        "    if visited[(amt1, amt2)] == False:\n",
        "        print(amt1, amt2)\n",
        "        visited[(amt1, amt2)] = True\n",
        "        return (waterJugSolver(0, amt2) or\n",
        "                waterJugSolver(amt1, 0) or\n",
        "                waterJugSolver(jug1, amt2) or\n",
        "                waterJugSolver(amt1, jug2) or\n",
        "                waterJugSolver(amt1 + min(amt2, (jug1-amt1)),\n",
        "                amt2 - min(amt2, (jug1-amt1))) or\n",
        "                waterJugSolver(amt1 - min(amt1, (jug2-amt2)),\n",
        "                amt2 + min(amt1, (jug2-amt2))))\n",
        "    else:\n",
        "        return False\n",
        "\n",
        "print(\"Steps: \")\n",
        "waterJugSolver(0, 0)"
      ]
    }
  ]
}